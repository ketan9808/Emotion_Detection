{
  "nbformat": 4,
  "nbformat_minor": 0,
  "metadata": {
    "colab": {
      "name": "Emotion_detection.ipynb",
      "provenance": [],
      "collapsed_sections": [],
      "authorship_tag": "ABX9TyOeVTqkOv3qVWbSQA3S1081",
      "include_colab_link": true
    },
    "kernelspec": {
      "name": "python3",
      "display_name": "Python 3"
    },
    "accelerator": "GPU"
  },
  "cells": [
    {
      "cell_type": "markdown",
      "metadata": {
        "id": "view-in-github",
        "colab_type": "text"
      },
      "source": [
        "<a href=\"https://colab.research.google.com/github/ketan9808/Emotion_Detection/blob/master/Emotion_detection.ipynb\" target=\"_parent\"><img src=\"https://colab.research.google.com/assets/colab-badge.svg\" alt=\"Open In Colab\"/></a>"
      ]
    },
    {
      "cell_type": "code",
      "metadata": {
        "id": "GHrpv_UjnKUD",
        "colab_type": "code",
        "colab": {}
      },
      "source": [
        "!rm /content/sample_data/*\n",
        "!rmdir /content/sample_data"
      ],
      "execution_count": 0,
      "outputs": []
    },
    {
      "cell_type": "code",
      "metadata": {
        "id": "uovLjN2OnW2O",
        "colab_type": "code",
        "outputId": "d4dd2e65-2988-46c2-8a52-fffa765d7ac4",
        "colab": {
          "resources": {
            "http://localhost:8080/nbextensions/google.colab/files.js": {
              "data": "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",
              "ok": true,
              "headers": [
                [
                  "content-type",
                  "application/javascript"
                ]
              ],
              "status": 200,
              "status_text": ""
            }
          },
          "base_uri": "https://localhost:8080/",
          "height": 91
        }
      },
      "source": [
        "# Everytime you will revisit the notebook after closing the session you have to upload the kaggle.json\n",
        "# in case you restart the runtime you don't need to re-upload the kaggle .json\n",
        "# nither the files that you have downloaded\n",
        "from google.colab import files\n",
        "\n",
        "files.upload() #prompt to upload kaggle.json\n",
        "!mkdir /root/.kaggle #Creating a directory to store kaggle.json\n",
        "!mv /content/kaggle.json /root/.kaggle/kaggle.json #moving kaggle.json to /root/.kaggle directory\n",
        "!ls /root/.kaggle -a #Listing the content of the /root/.kaggle directory\n",
        "!chmod 600 /root/.kaggle/kaggle.json #Changing property of file so that only i can see the key"
      ],
      "execution_count": 2,
      "outputs": [
        {
          "output_type": "display_data",
          "data": {
            "text/html": [
              "\n",
              "     <input type=\"file\" id=\"files-be18aa7e-c3a3-4a23-94c5-4d533ca4ba7d\" name=\"files[]\" multiple disabled />\n",
              "     <output id=\"result-be18aa7e-c3a3-4a23-94c5-4d533ca4ba7d\">\n",
              "      Upload widget is only available when the cell has been executed in the\n",
              "      current browser session. Please rerun this cell to enable.\n",
              "      </output>\n",
              "      <script src=\"/nbextensions/google.colab/files.js\"></script> "
            ],
            "text/plain": [
              "<IPython.core.display.HTML object>"
            ]
          },
          "metadata": {
            "tags": []
          }
        },
        {
          "output_type": "stream",
          "text": [
            "Saving kaggle.json to kaggle.json\n",
            ".  ..  kaggle.json\n"
          ],
          "name": "stdout"
        }
      ]
    },
    {
      "cell_type": "code",
      "metadata": {
        "id": "wMOLUUcZnaKN",
        "colab_type": "code",
        "outputId": "dcb3cb5e-c75c-4646-d774-7c372e141268",
        "colab": {
          "base_uri": "https://localhost:8080/",
          "height": 34
        }
      },
      "source": [
        "# The try except block is used to select tf2.x version\n",
        "try:\n",
        "  %tensorflow_version 2.x\n",
        "except Exception:\n",
        "  pass\n",
        "\n",
        "import tensorflow as tf\n",
        "import kaggle\n",
        "import numpy as np\n",
        "import pandas as pd\n",
        "import matplotlib.pyplot as plt\n",
        "import os\n",
        "import cv2\n",
        "\n",
        "from tensorflow.keras.preprocessing.image import ImageDataGenerator\n",
        "from tensorflow.keras.models import Sequential\n",
        "from tensorflow.keras.layers import Conv2D, MaxPooling2D, Flatten, Dense, Dropout\n",
        "\n",
        "print(tf.__version__)"
      ],
      "execution_count": 21,
      "outputs": [
        {
          "output_type": "stream",
          "text": [
            "2.2.0-rc1\n"
          ],
          "name": "stdout"
        }
      ]
    },
    {
      "cell_type": "code",
      "metadata": {
        "id": "gM6e107InaEY",
        "colab_type": "code",
        "outputId": "bbbc069f-9660-4b7b-b110-7e384d4276ce",
        "colab": {
          "base_uri": "https://localhost:8080/",
          "height": 286
        }
      },
      "source": [
        "!kaggle competitions download -c challenges-in-representation-learning-facial-expression-recognition-challenge"
      ],
      "execution_count": 4,
      "outputs": [
        {
          "output_type": "stream",
          "text": [
            "Warning: Looks like you're using an outdated API Version, please consider updating (server 1.5.6 / client 1.5.4)\n",
            "Downloading example_submission.csv to /content\n",
            "  0% 0.00/7.01k [00:00<?, ?B/s]\n",
            "100% 7.01k/7.01k [00:00<00:00, 11.3MB/s]\n",
            "Downloading fer2013.tar.gz to /content\n",
            " 98% 90.0M/92.0M [00:00<00:00, 112MB/s] \n",
            "100% 92.0M/92.0M [00:00<00:00, 207MB/s]\n",
            "Downloading test.csv.zip to /content\n",
            " 88% 17.0M/19.3M [00:00<00:00, 32.9MB/s]\n",
            "100% 19.3M/19.3M [00:00<00:00, 48.8MB/s]\n",
            "Downloading train.csv.zip to /content\n",
            " 84% 65.0M/77.3M [00:01<00:00, 28.3MB/s]\n",
            "100% 77.3M/77.3M [00:01<00:00, 45.3MB/s]\n",
            "Downloading icml_face_data.csv.zip to /content\n",
            " 79% 76.0M/96.6M [00:01<00:00, 23.9MB/s]\n",
            "100% 96.6M/96.6M [00:02<00:00, 47.7MB/s]\n"
          ],
          "name": "stdout"
        }
      ]
    },
    {
      "cell_type": "code",
      "metadata": {
        "id": "OfiNNT4tnaBZ",
        "colab_type": "code",
        "outputId": "fdfb3891-586c-4c98-958e-49faa09aee5b",
        "colab": {
          "base_uri": "https://localhost:8080/",
          "height": 50
        }
      },
      "source": [
        "# !unzip icml_face_data.csv.zipz\n",
        "!unzip train.csv.zip\n",
        "# !unzip test.csv.zip"
      ],
      "execution_count": 5,
      "outputs": [
        {
          "output_type": "stream",
          "text": [
            "Archive:  train.csv.zip\n",
            "  inflating: train.csv               \n"
          ],
          "name": "stdout"
        }
      ]
    },
    {
      "cell_type": "markdown",
      "metadata": {
        "id": "eWrUiHIyngRW",
        "colab_type": "text"
      },
      "source": [
        "# Data Exploration and Preprocessing\n",
        "some important points\n",
        "- 48X48 grayscals images\n",
        "- Emotions : 0=Angry, 1=Disgust, 2=Fear, 3=Happy, 4=Sad, 5=Surprise, 6=Neutral\n",
        "- train.csv has 2 col. emotion and pixels\n",
        "  - emotion [0-6]\n",
        "  - pixel string containging pixel value ( space-separated pixel value in row major order)\n",
        "- test.csv has only pixel column and we have to predict the emotion\n",
        "\n",
        "\n",
        "- train set has 28709 example\n",
        "- public test 3589 examples\n",
        "- private test 3589 examples\n",
        "- icml has 35887 examples"
      ]
    },
    {
      "cell_type": "code",
      "metadata": {
        "id": "gUn4mYYNnZ_k",
        "colab_type": "code",
        "colab": {}
      },
      "source": [
        "emotion = [\"Angry\", \"Disgust\", \"Fear\", \"Happy\", \"Sad\", \"Surprise\", \"Neutral\"]"
      ],
      "execution_count": 0,
      "outputs": []
    },
    {
      "cell_type": "code",
      "metadata": {
        "id": "-I0zM60JnZ9d",
        "colab_type": "code",
        "outputId": "0b2cbd40-0ec1-4046-eb9b-8c3a2fbb5f09",
        "colab": {
          "base_uri": "https://localhost:8080/",
          "height": 195
        }
      },
      "source": [
        "train = pd.read_csv(\"train.csv\")\n",
        "train.head()"
      ],
      "execution_count": 7,
      "outputs": [
        {
          "output_type": "execute_result",
          "data": {
            "text/html": [
              "<div>\n",
              "<style scoped>\n",
              "    .dataframe tbody tr th:only-of-type {\n",
              "        vertical-align: middle;\n",
              "    }\n",
              "\n",
              "    .dataframe tbody tr th {\n",
              "        vertical-align: top;\n",
              "    }\n",
              "\n",
              "    .dataframe thead th {\n",
              "        text-align: right;\n",
              "    }\n",
              "</style>\n",
              "<table border=\"1\" class=\"dataframe\">\n",
              "  <thead>\n",
              "    <tr style=\"text-align: right;\">\n",
              "      <th></th>\n",
              "      <th>emotion</th>\n",
              "      <th>pixels</th>\n",
              "    </tr>\n",
              "  </thead>\n",
              "  <tbody>\n",
              "    <tr>\n",
              "      <th>0</th>\n",
              "      <td>0</td>\n",
              "      <td>70 80 82 72 58 58 60 63 54 58 60 48 89 115 121...</td>\n",
              "    </tr>\n",
              "    <tr>\n",
              "      <th>1</th>\n",
              "      <td>0</td>\n",
              "      <td>151 150 147 155 148 133 111 140 170 174 182 15...</td>\n",
              "    </tr>\n",
              "    <tr>\n",
              "      <th>2</th>\n",
              "      <td>2</td>\n",
              "      <td>231 212 156 164 174 138 161 173 182 200 106 38...</td>\n",
              "    </tr>\n",
              "    <tr>\n",
              "      <th>3</th>\n",
              "      <td>4</td>\n",
              "      <td>24 32 36 30 32 23 19 20 30 41 21 22 32 34 21 1...</td>\n",
              "    </tr>\n",
              "    <tr>\n",
              "      <th>4</th>\n",
              "      <td>6</td>\n",
              "      <td>4 0 0 0 0 0 0 0 0 0 0 0 3 15 23 28 48 50 58 84...</td>\n",
              "    </tr>\n",
              "  </tbody>\n",
              "</table>\n",
              "</div>"
            ],
            "text/plain": [
              "   emotion                                             pixels\n",
              "0        0  70 80 82 72 58 58 60 63 54 58 60 48 89 115 121...\n",
              "1        0  151 150 147 155 148 133 111 140 170 174 182 15...\n",
              "2        2  231 212 156 164 174 138 161 173 182 200 106 38...\n",
              "3        4  24 32 36 30 32 23 19 20 30 41 21 22 32 34 21 1...\n",
              "4        6  4 0 0 0 0 0 0 0 0 0 0 0 3 15 23 28 48 50 58 84..."
            ]
          },
          "metadata": {
            "tags": []
          },
          "execution_count": 7
        }
      ]
    },
    {
      "cell_type": "code",
      "metadata": {
        "id": "AqpiI8VjnZ6L",
        "colab_type": "code",
        "outputId": "0c5bd7b0-9d8e-47b2-e181-6ff6f34d85c9",
        "colab": {
          "base_uri": "https://localhost:8080/",
          "height": 118
        }
      },
      "source": [
        "happy_series = train[train.emotion == 3].pixels\n",
        "happy_labels = [[1, 0, 0] for i in range(len(happy_series))]\n",
        "\n",
        "sad_series = train[train.emotion == 4].pixels\n",
        "sad_labels = [[0, 1, 0] for i in range(len(sad_series))]\n",
        "\n",
        "neutral_series = train[train.emotion == 6].pixels\n",
        "neutral_labels = [[0, 0, 1] for i in range(len(neutral_series))]\n",
        "\n",
        "print(len(happy_series), len(happy_labels), len(sad_series), len(sad_labels), len(neutral_series), len(neutral_labels), sep = '\\n')"
      ],
      "execution_count": 8,
      "outputs": [
        {
          "output_type": "stream",
          "text": [
            "7215\n",
            "7215\n",
            "4830\n",
            "4830\n",
            "4965\n",
            "4965\n"
          ],
          "name": "stdout"
        }
      ]
    },
    {
      "cell_type": "code",
      "metadata": {
        "id": "ZnPNUq-_o1o7",
        "colab_type": "code",
        "colab": {}
      },
      "source": [
        "def convert_image(df):\n",
        "  temp = []\n",
        "  label = []\n",
        "  for index, emotion_class in enumerate(df):\n",
        "    for i in emotion_class:\n",
        "      arr = [int(j) for j in i.split()]\n",
        "      arr = np.array(arr, dtype = np.uint8)\n",
        "      arr = arr.reshape(48, 48)\n",
        "      arr = np.expand_dims(arr, -1)\n",
        "      temp.append(arr)\n",
        "      class_label = [0, 0, 0]\n",
        "      class_label[index] = 1\n",
        "      label.append(class_label)\n",
        "  return temp, label"
      ],
      "execution_count": 0,
      "outputs": []
    },
    {
      "cell_type": "code",
      "metadata": {
        "id": "ld_D8WDWv0fb",
        "colab_type": "code",
        "outputId": "068faa80-ec68-42d2-8b77-0e089b769aa7",
        "colab": {
          "base_uri": "https://localhost:8080/",
          "height": 34
        }
      },
      "source": [
        "data, labels = convert_image([happy_series, sad_series, neutral_series])\n",
        "data = np.array(data, dtype = np.uint8)\n",
        "labels = np.array(labels)\n",
        "print(data.shape,labels.shape)\n",
        "\n",
        "total_train = int(data.shape[0]*0.8)\n",
        "total_val = int(data.shape[0]*0.2)"
      ],
      "execution_count": 10,
      "outputs": [
        {
          "output_type": "stream",
          "text": [
            "(17010, 48, 48, 1) (17010, 3)\n"
          ],
          "name": "stdout"
        }
      ]
    },
    {
      "cell_type": "code",
      "metadata": {
        "id": "lcvzKlPanshE",
        "colab_type": "code",
        "colab": {}
      },
      "source": [
        "BATCH_SIZE = 512\n",
        "EPOCHS = 200\n",
        "IMG_HEIGHT = 48\n",
        "IMG_WIDTH = 48"
      ],
      "execution_count": 0,
      "outputs": []
    },
    {
      "cell_type": "code",
      "metadata": {
        "id": "aa3So6gDqb0H",
        "colab_type": "code",
        "colab": {}
      },
      "source": [
        "train_image_generator = ImageDataGenerator(\n",
        "                                  validation_split = 0.2,\n",
        "                                  rescale = 1./255,\n",
        "                                  vertical_flip=True,\n",
        "                                  rotation_range=45,\n",
        "                                  width_shift_range=0.2,\n",
        "                                  height_shift_range=0.2,\n",
        "                                  zoom_range=0.2,\n",
        "                                  fill_mode='reflect'\n",
        "                                  )"
      ],
      "execution_count": 0,
      "outputs": []
    },
    {
      "cell_type": "code",
      "metadata": {
        "id": "DYVFMUX_nsfQ",
        "colab_type": "code",
        "colab": {}
      },
      "source": [
        "train_data_gen = train_image_generator.flow(x = data,\n",
        "                                            y = labels,\n",
        "                                            batch_size = BATCH_SIZE,\n",
        "                                            subset = 'training')\n",
        "validation_data_gen = train_image_generator.flow(x = data,\n",
        "                                                 y = labels,\n",
        "                                                 batch_size=BATCH_SIZE,\n",
        "                                                 subset='validation')"
      ],
      "execution_count": 0,
      "outputs": []
    },
    {
      "cell_type": "code",
      "metadata": {
        "id": "vm6oYl2Dnscm",
        "colab_type": "code",
        "outputId": "52448482-af5f-4aa4-9d5a-03884fd0b869",
        "colab": {
          "base_uri": "https://localhost:8080/",
          "height": 34
        }
      },
      "source": [
        "sample_training_image , sample_training_label = next(train_data_gen)\n",
        "sample_training_image.shape"
      ],
      "execution_count": 14,
      "outputs": [
        {
          "output_type": "execute_result",
          "data": {
            "text/plain": [
              "(512, 48, 48, 1)"
            ]
          },
          "metadata": {
            "tags": []
          },
          "execution_count": 14
        }
      ]
    },
    {
      "cell_type": "code",
      "metadata": {
        "id": "sV2mbz8Ansaz",
        "colab_type": "code",
        "colab": {}
      },
      "source": [
        "def plot_images(images_arr):\n",
        "  fig, axes = plt.subplots(1, 5, figsize = (20, 20))\n",
        "  axes = axes.flatten()\n",
        "  for image, axis in zip(images_arr, axes):\n",
        "    axis.imshow(image)\n",
        "    axis.axis(\"off\")\n",
        "  plt.tight_layout()\n",
        "  plt.show()"
      ],
      "execution_count": 0,
      "outputs": []
    },
    {
      "cell_type": "code",
      "metadata": {
        "id": "rRrdotM9nsY5",
        "colab_type": "code",
        "colab": {}
      },
      "source": [
        "# plot_images(sample_training_image[:5])"
      ],
      "execution_count": 0,
      "outputs": []
    },
    {
      "cell_type": "markdown",
      "metadata": {
        "id": "hzKsIFshn03b",
        "colab_type": "text"
      },
      "source": [
        "# Create your own model\n",
        "I will try the following\n",
        "- Create a baseline Neural Network model\n",
        "- Create a baseline Convolution Neural Network model\n",
        "- Create a Transfer Learning model\n",
        "  - Without fine tuning\n",
        "  - With fine tuning\n",
        "- Create a model with equal number of examples from each class\n",
        "\n",
        "and then tune these models to get better accuracy"
      ]
    },
    {
      "cell_type": "code",
      "metadata": {
        "id": "VcljBV8ldUHc",
        "colab_type": "code",
        "colab": {}
      },
      "source": [
        "model = Sequential([\n",
        "                    Conv2D(16, 3, padding='same', activation='relu', input_shape=(IMG_HEIGHT, IMG_WIDTH,1)),\n",
        "                    MaxPooling2D(),\n",
        "                    Conv2D(32, 3, padding='same', activation='relu'),\n",
        "                    MaxPooling2D(),\n",
        "                    Conv2D(64, 3, padding='same', activation='relu'),\n",
        "                    MaxPooling2D(),\n",
        "                    Flatten(),\n",
        "                    Dropout(0.3),\n",
        "                    Dense(256, activation='relu'),\n",
        "                    Dropout(0.3),\n",
        "                    Dense(3, activation='softmax')\n",
        "])\n",
        "\n",
        "model.compile(optimizer='adam', loss='categorical_crossentropy', metrics=['accuracy'])"
      ],
      "execution_count": 0,
      "outputs": []
    },
    {
      "cell_type": "code",
      "metadata": {
        "id": "FwZ7kjX-2zKw",
        "colab_type": "code",
        "outputId": "10ebb1c8-e6a1-4b7c-953e-45ff66a339b8",
        "colab": {
          "base_uri": "https://localhost:8080/",
          "height": 1000
        }
      },
      "source": [
        "history = model.fit(train_data_gen, \n",
        "                  steps_per_epoch=(total_train*0.8)//BATCH_SIZE,\n",
        "                  epochs = EPOCHS,\n",
        "                  validation_data = validation_data_gen,\n",
        "                  validation_steps= (total_train*0.2)//BATCH_SIZE\n",
        "                  )"
      ],
      "execution_count": 41,
      "outputs": [
        {
          "output_type": "stream",
          "text": [
            "Epoch 1/200\n",
            "21/21 [==============================] - 5s 218ms/step - loss: 1.0944 - accuracy: 0.3584 - val_loss: 1.2329 - val_accuracy: 0.0000e+00\n",
            "Epoch 2/200\n",
            "21/21 [==============================] - 4s 205ms/step - loss: 1.0860 - accuracy: 0.3804 - val_loss: 1.2919 - val_accuracy: 0.0000e+00\n",
            "Epoch 3/200\n",
            "21/21 [==============================] - 4s 206ms/step - loss: 1.0840 - accuracy: 0.3802 - val_loss: 1.2611 - val_accuracy: 0.0000e+00\n",
            "Epoch 4/200\n",
            "21/21 [==============================] - 4s 207ms/step - loss: 1.0809 - accuracy: 0.3923 - val_loss: 1.2289 - val_accuracy: 0.0214\n",
            "Epoch 5/200\n",
            "21/21 [==============================] - 4s 205ms/step - loss: 1.0754 - accuracy: 0.3949 - val_loss: 1.2134 - val_accuracy: 0.2178\n",
            "Epoch 6/200\n",
            "21/21 [==============================] - 4s 205ms/step - loss: 1.0744 - accuracy: 0.4057 - val_loss: 1.3681 - val_accuracy: 0.0076\n",
            "Epoch 7/200\n",
            "21/21 [==============================] - 4s 205ms/step - loss: 1.0773 - accuracy: 0.3985 - val_loss: 1.1810 - val_accuracy: 0.3281\n",
            "Epoch 8/200\n",
            "21/21 [==============================] - 4s 206ms/step - loss: 1.0736 - accuracy: 0.4024 - val_loss: 1.2260 - val_accuracy: 0.0699\n",
            "Epoch 9/200\n",
            "21/21 [==============================] - 4s 201ms/step - loss: 1.0731 - accuracy: 0.4105 - val_loss: 1.2123 - val_accuracy: 0.1295\n",
            "Epoch 10/200\n",
            "21/21 [==============================] - 4s 202ms/step - loss: 1.0680 - accuracy: 0.4175 - val_loss: 1.0833 - val_accuracy: 0.5034\n",
            "Epoch 11/200\n",
            "21/21 [==============================] - 4s 200ms/step - loss: 1.0720 - accuracy: 0.4061 - val_loss: 1.3044 - val_accuracy: 0.0038\n",
            "Epoch 12/200\n",
            "21/21 [==============================] - 4s 203ms/step - loss: 1.0698 - accuracy: 0.4161 - val_loss: 1.1195 - val_accuracy: 0.2431\n",
            "Epoch 13/200\n",
            "21/21 [==============================] - 4s 203ms/step - loss: 1.0680 - accuracy: 0.4097 - val_loss: 1.1667 - val_accuracy: 0.4138\n",
            "Epoch 14/200\n",
            "21/21 [==============================] - 4s 203ms/step - loss: 1.0637 - accuracy: 0.4182 - val_loss: 1.3568 - val_accuracy: 0.0742\n",
            "Epoch 15/200\n",
            "21/21 [==============================] - 4s 203ms/step - loss: 1.0681 - accuracy: 0.4104 - val_loss: 1.2478 - val_accuracy: 0.2039\n",
            "Epoch 16/200\n",
            "21/21 [==============================] - 4s 200ms/step - loss: 1.0636 - accuracy: 0.4220 - val_loss: 1.2960 - val_accuracy: 0.0601\n",
            "Epoch 17/200\n",
            "21/21 [==============================] - 4s 199ms/step - loss: 1.0623 - accuracy: 0.4297 - val_loss: 1.2372 - val_accuracy: 0.2082\n",
            "Epoch 18/200\n",
            "21/21 [==============================] - 4s 198ms/step - loss: 1.0628 - accuracy: 0.4278 - val_loss: 1.2336 - val_accuracy: 0.1854\n",
            "Epoch 19/200\n",
            "21/21 [==============================] - 4s 204ms/step - loss: 1.0604 - accuracy: 0.4271 - val_loss: 1.2798 - val_accuracy: 0.2225\n",
            "Epoch 20/200\n",
            "21/21 [==============================] - 4s 206ms/step - loss: 1.0543 - accuracy: 0.4353 - val_loss: 1.2140 - val_accuracy: 0.2897\n",
            "Epoch 21/200\n",
            "21/21 [==============================] - 4s 204ms/step - loss: 1.0575 - accuracy: 0.4304 - val_loss: 1.1046 - val_accuracy: 0.4027\n",
            "Epoch 22/200\n",
            "21/21 [==============================] - 4s 208ms/step - loss: 1.0618 - accuracy: 0.4282 - val_loss: 1.2274 - val_accuracy: 0.2836\n",
            "Epoch 23/200\n",
            "21/21 [==============================] - 4s 207ms/step - loss: 1.0567 - accuracy: 0.4317 - val_loss: 1.2892 - val_accuracy: 0.1354\n",
            "Epoch 24/200\n",
            "21/21 [==============================] - 4s 199ms/step - loss: 1.0567 - accuracy: 0.4249 - val_loss: 1.2546 - val_accuracy: 0.2624\n",
            "Epoch 25/200\n",
            "21/21 [==============================] - 4s 200ms/step - loss: 1.0493 - accuracy: 0.4403 - val_loss: 1.2089 - val_accuracy: 0.3310\n",
            "Epoch 26/200\n",
            "21/21 [==============================] - 4s 201ms/step - loss: 1.0482 - accuracy: 0.4418 - val_loss: 1.2877 - val_accuracy: 0.1766\n",
            "Epoch 27/200\n",
            "21/21 [==============================] - 4s 202ms/step - loss: 1.0518 - accuracy: 0.4403 - val_loss: 1.3229 - val_accuracy: 0.2006\n",
            "Epoch 28/200\n",
            "21/21 [==============================] - 4s 210ms/step - loss: 1.0435 - accuracy: 0.4486 - val_loss: 1.1532 - val_accuracy: 0.3727\n",
            "Epoch 29/200\n",
            "21/21 [==============================] - 4s 206ms/step - loss: 1.0447 - accuracy: 0.4521 - val_loss: 1.1156 - val_accuracy: 0.4176\n",
            "Epoch 30/200\n",
            "21/21 [==============================] - 4s 206ms/step - loss: 1.0476 - accuracy: 0.4433 - val_loss: 1.1620 - val_accuracy: 0.3007\n",
            "Epoch 31/200\n",
            "21/21 [==============================] - 4s 205ms/step - loss: 1.0432 - accuracy: 0.4507 - val_loss: 1.3064 - val_accuracy: 0.2170\n",
            "Epoch 32/200\n",
            "21/21 [==============================] - 5s 217ms/step - loss: 1.0430 - accuracy: 0.4488 - val_loss: 1.2814 - val_accuracy: 0.1985\n",
            "Epoch 33/200\n",
            "21/21 [==============================] - 4s 207ms/step - loss: 1.0418 - accuracy: 0.4551 - val_loss: 1.1023 - val_accuracy: 0.4130\n",
            "Epoch 34/200\n",
            "21/21 [==============================] - 4s 204ms/step - loss: 1.0319 - accuracy: 0.4732 - val_loss: 1.3134 - val_accuracy: 0.2250\n",
            "Epoch 35/200\n",
            "21/21 [==============================] - 4s 208ms/step - loss: 1.0376 - accuracy: 0.4602 - val_loss: 1.1676 - val_accuracy: 0.3504\n",
            "Epoch 36/200\n",
            "21/21 [==============================] - 5s 214ms/step - loss: 1.0337 - accuracy: 0.4622 - val_loss: 1.2204 - val_accuracy: 0.3125\n",
            "Epoch 37/200\n",
            "21/21 [==============================] - 4s 211ms/step - loss: 1.0307 - accuracy: 0.4733 - val_loss: 1.2698 - val_accuracy: 0.2338\n",
            "Epoch 38/200\n",
            "21/21 [==============================] - 4s 205ms/step - loss: 1.0230 - accuracy: 0.4712 - val_loss: 1.2034 - val_accuracy: 0.3238\n",
            "Epoch 39/200\n",
            "21/21 [==============================] - 4s 204ms/step - loss: 1.0211 - accuracy: 0.4758 - val_loss: 1.2164 - val_accuracy: 0.3305\n",
            "Epoch 40/200\n",
            "21/21 [==============================] - 4s 207ms/step - loss: 1.0260 - accuracy: 0.4715 - val_loss: 1.3850 - val_accuracy: 0.1569\n",
            "Epoch 41/200\n",
            "21/21 [==============================] - 4s 210ms/step - loss: 1.0298 - accuracy: 0.4704 - val_loss: 1.1524 - val_accuracy: 0.3713\n",
            "Epoch 42/200\n",
            "21/21 [==============================] - 4s 206ms/step - loss: 1.0202 - accuracy: 0.4789 - val_loss: 1.2299 - val_accuracy: 0.3039\n",
            "Epoch 43/200\n",
            "21/21 [==============================] - 4s 211ms/step - loss: 1.0139 - accuracy: 0.4895 - val_loss: 1.0828 - val_accuracy: 0.4469\n",
            "Epoch 44/200\n",
            "21/21 [==============================] - 4s 209ms/step - loss: 1.0130 - accuracy: 0.4840 - val_loss: 1.1068 - val_accuracy: 0.4226\n",
            "Epoch 45/200\n",
            "21/21 [==============================] - 4s 204ms/step - loss: 1.0111 - accuracy: 0.4882 - val_loss: 1.2763 - val_accuracy: 0.2759\n",
            "Epoch 46/200\n",
            "21/21 [==============================] - 4s 209ms/step - loss: 1.0097 - accuracy: 0.4875 - val_loss: 1.0536 - val_accuracy: 0.4807\n",
            "Epoch 47/200\n",
            "21/21 [==============================] - 4s 206ms/step - loss: 1.0066 - accuracy: 0.4919 - val_loss: 1.1150 - val_accuracy: 0.4243\n",
            "Epoch 48/200\n",
            "21/21 [==============================] - 4s 208ms/step - loss: 1.0043 - accuracy: 0.5028 - val_loss: 1.1948 - val_accuracy: 0.3436\n",
            "Epoch 49/200\n",
            "21/21 [==============================] - 4s 208ms/step - loss: 0.9980 - accuracy: 0.4953 - val_loss: 1.1780 - val_accuracy: 0.3723\n",
            "Epoch 50/200\n",
            "21/21 [==============================] - 5s 216ms/step - loss: 1.0073 - accuracy: 0.4948 - val_loss: 1.1098 - val_accuracy: 0.4133\n",
            "Epoch 51/200\n",
            "21/21 [==============================] - 4s 211ms/step - loss: 0.9916 - accuracy: 0.5021 - val_loss: 0.9666 - val_accuracy: 0.5353\n",
            "Epoch 52/200\n",
            "21/21 [==============================] - 4s 205ms/step - loss: 0.9960 - accuracy: 0.4999 - val_loss: 1.1554 - val_accuracy: 0.3898\n",
            "Epoch 53/200\n",
            "21/21 [==============================] - 4s 208ms/step - loss: 0.9921 - accuracy: 0.5037 - val_loss: 0.9986 - val_accuracy: 0.5349\n",
            "Epoch 54/200\n",
            "21/21 [==============================] - 4s 207ms/step - loss: 0.9963 - accuracy: 0.5010 - val_loss: 1.1221 - val_accuracy: 0.4310\n",
            "Epoch 55/200\n",
            "21/21 [==============================] - 4s 207ms/step - loss: 0.9891 - accuracy: 0.5065 - val_loss: 1.0242 - val_accuracy: 0.4924\n",
            "Epoch 56/200\n",
            "21/21 [==============================] - 4s 206ms/step - loss: 0.9841 - accuracy: 0.5069 - val_loss: 1.1617 - val_accuracy: 0.4020\n",
            "Epoch 57/200\n",
            "21/21 [==============================] - 4s 210ms/step - loss: 0.9836 - accuracy: 0.5109 - val_loss: 0.9744 - val_accuracy: 0.5273\n",
            "Epoch 58/200\n",
            "21/21 [==============================] - 4s 212ms/step - loss: 0.9856 - accuracy: 0.5093 - val_loss: 1.0006 - val_accuracy: 0.4945\n",
            "Epoch 59/200\n",
            "21/21 [==============================] - 5s 215ms/step - loss: 0.9790 - accuracy: 0.5125 - val_loss: 1.2572 - val_accuracy: 0.3381\n",
            "Epoch 60/200\n",
            "21/21 [==============================] - 4s 210ms/step - loss: 0.9751 - accuracy: 0.5173 - val_loss: 1.2681 - val_accuracy: 0.3406\n",
            "Epoch 61/200\n",
            "21/21 [==============================] - 4s 204ms/step - loss: 0.9705 - accuracy: 0.5230 - val_loss: 1.0524 - val_accuracy: 0.4718\n",
            "Epoch 62/200\n",
            "21/21 [==============================] - 4s 202ms/step - loss: 0.9748 - accuracy: 0.5196 - val_loss: 1.1569 - val_accuracy: 0.3970\n",
            "Epoch 63/200\n",
            "21/21 [==============================] - 4s 206ms/step - loss: 0.9719 - accuracy: 0.5123 - val_loss: 1.0361 - val_accuracy: 0.4828\n",
            "Epoch 64/200\n",
            "21/21 [==============================] - 4s 211ms/step - loss: 0.9712 - accuracy: 0.5181 - val_loss: 1.0146 - val_accuracy: 0.4930\n",
            "Epoch 65/200\n",
            "21/21 [==============================] - 4s 206ms/step - loss: 0.9564 - accuracy: 0.5323 - val_loss: 1.1848 - val_accuracy: 0.3738\n",
            "Epoch 66/200\n",
            "21/21 [==============================] - 4s 203ms/step - loss: 0.9709 - accuracy: 0.5178 - val_loss: 0.9174 - val_accuracy: 0.5803\n",
            "Epoch 67/200\n",
            "21/21 [==============================] - 4s 208ms/step - loss: 0.9662 - accuracy: 0.5251 - val_loss: 1.0285 - val_accuracy: 0.4916\n",
            "Epoch 68/200\n",
            "21/21 [==============================] - 4s 208ms/step - loss: 0.9589 - accuracy: 0.5210 - val_loss: 0.9492 - val_accuracy: 0.5433\n",
            "Epoch 69/200\n",
            "21/21 [==============================] - 4s 202ms/step - loss: 0.9478 - accuracy: 0.5363 - val_loss: 1.0754 - val_accuracy: 0.4428\n",
            "Epoch 70/200\n",
            "21/21 [==============================] - 4s 207ms/step - loss: 0.9556 - accuracy: 0.5294 - val_loss: 1.1432 - val_accuracy: 0.4223\n",
            "Epoch 71/200\n",
            "21/21 [==============================] - 4s 212ms/step - loss: 0.9481 - accuracy: 0.5301 - val_loss: 1.1552 - val_accuracy: 0.4223\n",
            "Epoch 72/200\n",
            "21/21 [==============================] - 4s 210ms/step - loss: 0.9479 - accuracy: 0.5329 - val_loss: 1.0725 - val_accuracy: 0.4394\n",
            "Epoch 73/200\n",
            "21/21 [==============================] - 4s 210ms/step - loss: 0.9546 - accuracy: 0.5248 - val_loss: 1.0477 - val_accuracy: 0.4752\n",
            "Epoch 74/200\n",
            "21/21 [==============================] - 4s 205ms/step - loss: 0.9481 - accuracy: 0.5388 - val_loss: 1.0750 - val_accuracy: 0.4743\n",
            "Epoch 75/200\n",
            "21/21 [==============================] - 4s 208ms/step - loss: 0.9483 - accuracy: 0.5375 - val_loss: 1.0974 - val_accuracy: 0.4437\n",
            "Epoch 76/200\n",
            "21/21 [==============================] - 4s 211ms/step - loss: 0.9498 - accuracy: 0.5283 - val_loss: 0.8831 - val_accuracy: 0.5942\n",
            "Epoch 77/200\n",
            "21/21 [==============================] - 4s 212ms/step - loss: 0.9466 - accuracy: 0.5364 - val_loss: 1.1103 - val_accuracy: 0.4484\n",
            "Epoch 78/200\n",
            "21/21 [==============================] - 4s 211ms/step - loss: 0.9376 - accuracy: 0.5385 - val_loss: 1.0697 - val_accuracy: 0.4602\n",
            "Epoch 79/200\n",
            "21/21 [==============================] - 4s 204ms/step - loss: 0.9257 - accuracy: 0.5439 - val_loss: 1.0207 - val_accuracy: 0.4832\n",
            "Epoch 80/200\n",
            "21/21 [==============================] - 4s 210ms/step - loss: 0.9307 - accuracy: 0.5491 - val_loss: 1.0701 - val_accuracy: 0.4828\n",
            "Epoch 81/200\n",
            "21/21 [==============================] - 5s 221ms/step - loss: 0.9383 - accuracy: 0.5369 - val_loss: 0.9912 - val_accuracy: 0.5139\n",
            "Epoch 82/200\n",
            "21/21 [==============================] - 5s 218ms/step - loss: 0.9259 - accuracy: 0.5539 - val_loss: 1.1368 - val_accuracy: 0.4298\n",
            "Epoch 83/200\n",
            "21/21 [==============================] - 5s 214ms/step - loss: 0.9369 - accuracy: 0.5518 - val_loss: 1.1843 - val_accuracy: 0.4113\n",
            "Epoch 84/200\n",
            "21/21 [==============================] - 5s 214ms/step - loss: 0.9306 - accuracy: 0.5478 - val_loss: 0.8476 - val_accuracy: 0.6012\n",
            "Epoch 85/200\n",
            "21/21 [==============================] - 5s 220ms/step - loss: 0.9316 - accuracy: 0.5508 - val_loss: 1.0262 - val_accuracy: 0.5020\n",
            "Epoch 86/200\n",
            "21/21 [==============================] - 5s 217ms/step - loss: 0.9324 - accuracy: 0.5449 - val_loss: 1.0228 - val_accuracy: 0.5042\n",
            "Epoch 87/200\n",
            "21/21 [==============================] - 4s 211ms/step - loss: 0.9220 - accuracy: 0.5483 - val_loss: 1.0777 - val_accuracy: 0.4575\n",
            "Epoch 88/200\n",
            "21/21 [==============================] - 4s 208ms/step - loss: 0.9246 - accuracy: 0.5510 - val_loss: 0.9930 - val_accuracy: 0.5105\n",
            "Epoch 89/200\n",
            "21/21 [==============================] - 4s 214ms/step - loss: 0.9155 - accuracy: 0.5625 - val_loss: 1.0500 - val_accuracy: 0.4786\n",
            "Epoch 90/200\n",
            "21/21 [==============================] - 4s 212ms/step - loss: 0.9182 - accuracy: 0.5534 - val_loss: 0.8898 - val_accuracy: 0.5799\n",
            "Epoch 91/200\n",
            "21/21 [==============================] - 4s 212ms/step - loss: 0.9106 - accuracy: 0.5646 - val_loss: 0.8969 - val_accuracy: 0.5910\n",
            "Epoch 92/200\n",
            "21/21 [==============================] - 5s 215ms/step - loss: 0.9192 - accuracy: 0.5528 - val_loss: 1.0362 - val_accuracy: 0.4906\n",
            "Epoch 93/200\n",
            "21/21 [==============================] - 4s 209ms/step - loss: 0.9213 - accuracy: 0.5584 - val_loss: 0.8287 - val_accuracy: 0.6287\n",
            "Epoch 94/200\n",
            "21/21 [==============================] - 4s 213ms/step - loss: 0.9103 - accuracy: 0.5604 - val_loss: 1.1665 - val_accuracy: 0.4176\n",
            "Epoch 95/200\n",
            "21/21 [==============================] - 4s 212ms/step - loss: 0.9192 - accuracy: 0.5563 - val_loss: 1.0911 - val_accuracy: 0.4613\n",
            "Epoch 96/200\n",
            "21/21 [==============================] - 4s 207ms/step - loss: 0.9185 - accuracy: 0.5540 - val_loss: 0.8949 - val_accuracy: 0.5833\n",
            "Epoch 97/200\n",
            "21/21 [==============================] - 4s 209ms/step - loss: 0.8990 - accuracy: 0.5671 - val_loss: 0.9738 - val_accuracy: 0.5269\n",
            "Epoch 98/200\n",
            "21/21 [==============================] - 4s 210ms/step - loss: 0.9066 - accuracy: 0.5621 - val_loss: 1.0329 - val_accuracy: 0.5027\n",
            "Epoch 99/200\n",
            "21/21 [==============================] - 5s 216ms/step - loss: 0.9100 - accuracy: 0.5639 - val_loss: 0.9787 - val_accuracy: 0.5258\n",
            "Epoch 100/200\n",
            "21/21 [==============================] - 4s 213ms/step - loss: 0.9042 - accuracy: 0.5646 - val_loss: 0.9606 - val_accuracy: 0.5542\n",
            "Epoch 101/200\n",
            "21/21 [==============================] - 4s 207ms/step - loss: 0.9058 - accuracy: 0.5599 - val_loss: 1.0343 - val_accuracy: 0.4992\n",
            "Epoch 102/200\n",
            "21/21 [==============================] - 4s 207ms/step - loss: 0.8955 - accuracy: 0.5729 - val_loss: 0.9819 - val_accuracy: 0.5214\n",
            "Epoch 103/200\n",
            "21/21 [==============================] - 4s 205ms/step - loss: 0.8935 - accuracy: 0.5730 - val_loss: 0.9937 - val_accuracy: 0.5219\n",
            "Epoch 104/200\n",
            "21/21 [==============================] - 4s 212ms/step - loss: 0.8938 - accuracy: 0.5752 - val_loss: 1.0268 - val_accuracy: 0.5067\n",
            "Epoch 105/200\n",
            "21/21 [==============================] - 4s 206ms/step - loss: 0.9033 - accuracy: 0.5681 - val_loss: 0.9152 - val_accuracy: 0.5633\n",
            "Epoch 106/200\n",
            "21/21 [==============================] - 5s 214ms/step - loss: 0.8996 - accuracy: 0.5623 - val_loss: 0.9398 - val_accuracy: 0.5520\n",
            "Epoch 107/200\n",
            "21/21 [==============================] - 4s 206ms/step - loss: 0.9024 - accuracy: 0.5677 - val_loss: 0.8042 - val_accuracy: 0.6413\n",
            "Epoch 108/200\n",
            "21/21 [==============================] - 4s 205ms/step - loss: 0.9037 - accuracy: 0.5729 - val_loss: 0.9700 - val_accuracy: 0.5395\n",
            "Epoch 109/200\n",
            "21/21 [==============================] - 4s 207ms/step - loss: 0.8966 - accuracy: 0.5720 - val_loss: 0.8572 - val_accuracy: 0.6060\n",
            "Epoch 110/200\n",
            "21/21 [==============================] - 4s 204ms/step - loss: 0.8876 - accuracy: 0.5767 - val_loss: 0.9413 - val_accuracy: 0.5530\n",
            "Epoch 111/200\n",
            "21/21 [==============================] - 4s 206ms/step - loss: 0.9003 - accuracy: 0.5698 - val_loss: 0.9467 - val_accuracy: 0.5547\n",
            "Epoch 112/200\n",
            "21/21 [==============================] - 5s 219ms/step - loss: 0.8858 - accuracy: 0.5765 - val_loss: 0.9381 - val_accuracy: 0.5645\n",
            "Epoch 113/200\n",
            "21/21 [==============================] - 5s 216ms/step - loss: 0.8962 - accuracy: 0.5699 - val_loss: 0.8817 - val_accuracy: 0.5875\n",
            "Epoch 114/200\n",
            "21/21 [==============================] - 4s 206ms/step - loss: 0.8876 - accuracy: 0.5704 - val_loss: 0.7547 - val_accuracy: 0.6733\n",
            "Epoch 115/200\n",
            "21/21 [==============================] - 4s 204ms/step - loss: 0.8967 - accuracy: 0.5704 - val_loss: 1.1333 - val_accuracy: 0.4521\n",
            "Epoch 116/200\n",
            "21/21 [==============================] - 4s 205ms/step - loss: 0.8870 - accuracy: 0.5780 - val_loss: 0.7852 - val_accuracy: 0.6493\n",
            "Epoch 117/200\n",
            "21/21 [==============================] - 4s 206ms/step - loss: 0.8840 - accuracy: 0.5765 - val_loss: 1.0069 - val_accuracy: 0.5265\n",
            "Epoch 118/200\n",
            "21/21 [==============================] - 4s 212ms/step - loss: 0.8779 - accuracy: 0.5815 - val_loss: 0.9247 - val_accuracy: 0.5673\n",
            "Epoch 119/200\n",
            "21/21 [==============================] - 4s 205ms/step - loss: 0.8825 - accuracy: 0.5753 - val_loss: 0.8633 - val_accuracy: 0.5957\n",
            "Epoch 120/200\n",
            "21/21 [==============================] - 4s 209ms/step - loss: 0.8807 - accuracy: 0.5804 - val_loss: 0.9125 - val_accuracy: 0.5676\n",
            "Epoch 121/200\n",
            "21/21 [==============================] - 4s 207ms/step - loss: 0.8747 - accuracy: 0.5790 - val_loss: 0.8875 - val_accuracy: 0.5799\n",
            "Epoch 122/200\n",
            "21/21 [==============================] - 4s 209ms/step - loss: 0.8738 - accuracy: 0.5908 - val_loss: 0.7958 - val_accuracy: 0.6430\n",
            "Epoch 123/200\n",
            "21/21 [==============================] - 4s 205ms/step - loss: 0.8745 - accuracy: 0.5888 - val_loss: 1.0881 - val_accuracy: 0.4971\n",
            "Epoch 124/200\n",
            "21/21 [==============================] - 4s 208ms/step - loss: 0.8920 - accuracy: 0.5738 - val_loss: 0.9364 - val_accuracy: 0.5606\n",
            "Epoch 125/200\n",
            "21/21 [==============================] - 4s 204ms/step - loss: 0.8615 - accuracy: 0.5933 - val_loss: 0.8236 - val_accuracy: 0.6253\n",
            "Epoch 126/200\n",
            "21/21 [==============================] - 4s 207ms/step - loss: 0.8663 - accuracy: 0.5941 - val_loss: 0.9861 - val_accuracy: 0.5426\n",
            "Epoch 127/200\n",
            "21/21 [==============================] - 4s 212ms/step - loss: 0.8716 - accuracy: 0.5905 - val_loss: 0.9544 - val_accuracy: 0.5578\n",
            "Epoch 128/200\n",
            "21/21 [==============================] - 4s 211ms/step - loss: 0.8621 - accuracy: 0.5911 - val_loss: 0.8632 - val_accuracy: 0.6093\n",
            "Epoch 129/200\n",
            "21/21 [==============================] - 5s 219ms/step - loss: 0.8690 - accuracy: 0.5883 - val_loss: 1.0058 - val_accuracy: 0.5492\n",
            "Epoch 130/200\n",
            "21/21 [==============================] - 5s 215ms/step - loss: 0.8698 - accuracy: 0.5915 - val_loss: 0.8495 - val_accuracy: 0.5950\n",
            "Epoch 131/200\n",
            "21/21 [==============================] - 5s 217ms/step - loss: 0.8593 - accuracy: 0.5945 - val_loss: 0.8099 - val_accuracy: 0.6354\n",
            "Epoch 132/200\n",
            "21/21 [==============================] - 4s 213ms/step - loss: 0.8605 - accuracy: 0.5912 - val_loss: 0.8477 - val_accuracy: 0.6161\n",
            "Epoch 133/200\n",
            "21/21 [==============================] - 4s 209ms/step - loss: 0.8626 - accuracy: 0.5954 - val_loss: 0.8284 - val_accuracy: 0.6195\n",
            "Epoch 134/200\n",
            "21/21 [==============================] - 4s 212ms/step - loss: 0.8610 - accuracy: 0.5936 - val_loss: 0.7782 - val_accuracy: 0.6645\n",
            "Epoch 135/200\n",
            "21/21 [==============================] - 4s 209ms/step - loss: 0.8603 - accuracy: 0.5923 - val_loss: 0.8692 - val_accuracy: 0.6047\n",
            "Epoch 136/200\n",
            "21/21 [==============================] - 5s 217ms/step - loss: 0.8678 - accuracy: 0.5844 - val_loss: 1.0471 - val_accuracy: 0.5088\n",
            "Epoch 137/200\n",
            "21/21 [==============================] - 4s 206ms/step - loss: 0.8621 - accuracy: 0.5962 - val_loss: 0.8649 - val_accuracy: 0.6072\n",
            "Epoch 138/200\n",
            "21/21 [==============================] - 4s 204ms/step - loss: 0.8603 - accuracy: 0.5948 - val_loss: 0.8679 - val_accuracy: 0.5917\n",
            "Epoch 139/200\n",
            "21/21 [==============================] - 5s 217ms/step - loss: 0.8584 - accuracy: 0.5935 - val_loss: 0.8566 - val_accuracy: 0.6047\n",
            "Epoch 140/200\n",
            "21/21 [==============================] - 4s 209ms/step - loss: 0.8462 - accuracy: 0.6001 - val_loss: 0.9326 - val_accuracy: 0.5754\n",
            "Epoch 141/200\n",
            "21/21 [==============================] - 4s 210ms/step - loss: 0.8593 - accuracy: 0.5905 - val_loss: 0.8756 - val_accuracy: 0.5988\n",
            "Epoch 142/200\n",
            "21/21 [==============================] - 4s 207ms/step - loss: 0.8459 - accuracy: 0.6004 - val_loss: 0.7428 - val_accuracy: 0.6690\n",
            "Epoch 143/200\n",
            "21/21 [==============================] - 4s 211ms/step - loss: 0.8554 - accuracy: 0.5980 - val_loss: 0.9733 - val_accuracy: 0.5509\n",
            "Epoch 144/200\n",
            "21/21 [==============================] - 4s 211ms/step - loss: 0.8513 - accuracy: 0.5981 - val_loss: 0.9373 - val_accuracy: 0.5715\n",
            "Epoch 145/200\n",
            "21/21 [==============================] - 4s 214ms/step - loss: 0.8610 - accuracy: 0.5908 - val_loss: 0.7060 - val_accuracy: 0.6964\n",
            "Epoch 146/200\n",
            "21/21 [==============================] - 4s 208ms/step - loss: 0.8568 - accuracy: 0.5959 - val_loss: 0.7664 - val_accuracy: 0.6548\n",
            "Epoch 147/200\n",
            "21/21 [==============================] - 4s 206ms/step - loss: 0.8545 - accuracy: 0.5937 - val_loss: 0.9808 - val_accuracy: 0.5582\n",
            "Epoch 148/200\n",
            "21/21 [==============================] - 4s 212ms/step - loss: 0.8459 - accuracy: 0.6059 - val_loss: 0.7944 - val_accuracy: 0.6352\n",
            "Epoch 149/200\n",
            "21/21 [==============================] - 4s 214ms/step - loss: 0.8470 - accuracy: 0.6030 - val_loss: 0.9586 - val_accuracy: 0.5631\n",
            "Epoch 150/200\n",
            "21/21 [==============================] - 4s 208ms/step - loss: 0.8459 - accuracy: 0.6036 - val_loss: 0.9470 - val_accuracy: 0.5677\n",
            "Epoch 151/200\n",
            "21/21 [==============================] - 4s 204ms/step - loss: 0.8555 - accuracy: 0.5975 - val_loss: 0.7932 - val_accuracy: 0.6447\n",
            "Epoch 152/200\n",
            "21/21 [==============================] - 4s 204ms/step - loss: 0.8458 - accuracy: 0.5971 - val_loss: 0.7480 - val_accuracy: 0.6720\n",
            "Epoch 153/200\n",
            "21/21 [==============================] - 4s 210ms/step - loss: 0.8431 - accuracy: 0.6050 - val_loss: 0.7676 - val_accuracy: 0.6615\n",
            "Epoch 154/200\n",
            "21/21 [==============================] - 4s 205ms/step - loss: 0.8341 - accuracy: 0.6083 - val_loss: 0.7925 - val_accuracy: 0.6520\n",
            "Epoch 155/200\n",
            "21/21 [==============================] - 4s 208ms/step - loss: 0.8402 - accuracy: 0.6100 - val_loss: 0.8211 - val_accuracy: 0.6293\n",
            "Epoch 156/200\n",
            "21/21 [==============================] - 4s 205ms/step - loss: 0.8338 - accuracy: 0.6102 - val_loss: 0.7335 - val_accuracy: 0.6796\n",
            "Epoch 157/200\n",
            "21/21 [==============================] - 4s 205ms/step - loss: 0.8427 - accuracy: 0.6051 - val_loss: 0.9029 - val_accuracy: 0.5757\n",
            "Epoch 158/200\n",
            "21/21 [==============================] - 4s 213ms/step - loss: 0.8346 - accuracy: 0.6103 - val_loss: 0.6916 - val_accuracy: 0.7090\n",
            "Epoch 159/200\n",
            "21/21 [==============================] - 4s 204ms/step - loss: 0.8394 - accuracy: 0.6100 - val_loss: 0.7324 - val_accuracy: 0.6808\n",
            "Epoch 160/200\n",
            "21/21 [==============================] - 4s 205ms/step - loss: 0.8444 - accuracy: 0.6037 - val_loss: 0.7625 - val_accuracy: 0.6674\n",
            "Epoch 161/200\n",
            "21/21 [==============================] - 4s 202ms/step - loss: 0.8432 - accuracy: 0.6045 - val_loss: 0.7806 - val_accuracy: 0.6543\n",
            "Epoch 162/200\n",
            "21/21 [==============================] - 4s 206ms/step - loss: 0.8309 - accuracy: 0.6135 - val_loss: 0.9735 - val_accuracy: 0.5492\n",
            "Epoch 163/200\n",
            "21/21 [==============================] - 4s 209ms/step - loss: 0.8482 - accuracy: 0.6043 - val_loss: 0.8138 - val_accuracy: 0.6325\n",
            "Epoch 164/200\n",
            "21/21 [==============================] - 4s 206ms/step - loss: 0.8300 - accuracy: 0.6126 - val_loss: 0.8000 - val_accuracy: 0.6329\n",
            "Epoch 165/200\n",
            "21/21 [==============================] - 4s 204ms/step - loss: 0.8440 - accuracy: 0.6003 - val_loss: 0.7977 - val_accuracy: 0.6421\n",
            "Epoch 166/200\n",
            "21/21 [==============================] - 4s 204ms/step - loss: 0.8369 - accuracy: 0.6059 - val_loss: 0.8228 - val_accuracy: 0.6346\n",
            "Epoch 167/200\n",
            "21/21 [==============================] - 4s 210ms/step - loss: 0.8339 - accuracy: 0.6067 - val_loss: 0.8885 - val_accuracy: 0.5892\n",
            "Epoch 168/200\n",
            "21/21 [==============================] - 4s 208ms/step - loss: 0.8319 - accuracy: 0.6137 - val_loss: 0.7168 - val_accuracy: 0.6848\n",
            "Epoch 169/200\n",
            "21/21 [==============================] - 4s 205ms/step - loss: 0.8305 - accuracy: 0.6145 - val_loss: 0.7600 - val_accuracy: 0.6555\n",
            "Epoch 170/200\n",
            "21/21 [==============================] - 4s 203ms/step - loss: 0.8306 - accuracy: 0.6118 - val_loss: 0.8171 - val_accuracy: 0.6447\n",
            "Epoch 171/200\n",
            "21/21 [==============================] - 4s 205ms/step - loss: 0.8265 - accuracy: 0.6148 - val_loss: 0.8329 - val_accuracy: 0.6190\n",
            "Epoch 172/200\n",
            "21/21 [==============================] - 4s 212ms/step - loss: 0.8341 - accuracy: 0.6108 - val_loss: 0.8193 - val_accuracy: 0.6337\n",
            "Epoch 173/200\n",
            "21/21 [==============================] - 4s 204ms/step - loss: 0.8330 - accuracy: 0.6073 - val_loss: 0.8126 - val_accuracy: 0.6295\n",
            "Epoch 174/200\n",
            "21/21 [==============================] - 4s 204ms/step - loss: 0.8229 - accuracy: 0.6218 - val_loss: 0.7856 - val_accuracy: 0.6644\n",
            "Epoch 175/200\n",
            "21/21 [==============================] - 4s 202ms/step - loss: 0.8332 - accuracy: 0.6118 - val_loss: 0.8081 - val_accuracy: 0.6453\n",
            "Epoch 176/200\n",
            "21/21 [==============================] - 5s 219ms/step - loss: 0.8339 - accuracy: 0.6078 - val_loss: 0.8837 - val_accuracy: 0.6082\n",
            "Epoch 177/200\n",
            "21/21 [==============================] - 5s 215ms/step - loss: 0.8209 - accuracy: 0.6171 - val_loss: 0.7301 - val_accuracy: 0.6838\n",
            "Epoch 178/200\n",
            "21/21 [==============================] - 4s 214ms/step - loss: 0.8261 - accuracy: 0.6207 - val_loss: 0.8875 - val_accuracy: 0.5963\n",
            "Epoch 179/200\n",
            "21/21 [==============================] - 4s 208ms/step - loss: 0.8223 - accuracy: 0.6175 - val_loss: 0.7644 - val_accuracy: 0.6640\n",
            "Epoch 180/200\n",
            "21/21 [==============================] - 4s 209ms/step - loss: 0.8290 - accuracy: 0.6102 - val_loss: 0.8393 - val_accuracy: 0.6308\n",
            "Epoch 181/200\n",
            "21/21 [==============================] - 4s 213ms/step - loss: 0.8300 - accuracy: 0.6136 - val_loss: 0.7159 - val_accuracy: 0.6892\n",
            "Epoch 182/200\n",
            "21/21 [==============================] - 4s 208ms/step - loss: 0.8196 - accuracy: 0.6210 - val_loss: 0.7460 - val_accuracy: 0.6750\n",
            "Epoch 183/200\n",
            "21/21 [==============================] - 4s 210ms/step - loss: 0.8261 - accuracy: 0.6108 - val_loss: 0.8411 - val_accuracy: 0.6262\n",
            "Epoch 184/200\n",
            "21/21 [==============================] - 4s 207ms/step - loss: 0.8237 - accuracy: 0.6187 - val_loss: 0.9339 - val_accuracy: 0.5883\n",
            "Epoch 185/200\n",
            "21/21 [==============================] - 5s 217ms/step - loss: 0.8169 - accuracy: 0.6240 - val_loss: 0.7586 - val_accuracy: 0.6678\n",
            "Epoch 186/200\n",
            "21/21 [==============================] - 4s 212ms/step - loss: 0.8128 - accuracy: 0.6201 - val_loss: 0.8743 - val_accuracy: 0.6072\n",
            "Epoch 187/200\n",
            "21/21 [==============================] - 4s 209ms/step - loss: 0.8208 - accuracy: 0.6161 - val_loss: 0.7475 - val_accuracy: 0.6754\n",
            "Epoch 188/200\n",
            "21/21 [==============================] - 4s 209ms/step - loss: 0.8087 - accuracy: 0.6229 - val_loss: 0.7410 - val_accuracy: 0.6733\n",
            "Epoch 189/200\n",
            "21/21 [==============================] - 4s 208ms/step - loss: 0.8125 - accuracy: 0.6273 - val_loss: 0.8308 - val_accuracy: 0.6438\n",
            "Epoch 190/200\n",
            "21/21 [==============================] - 5s 216ms/step - loss: 0.8204 - accuracy: 0.6164 - val_loss: 0.8354 - val_accuracy: 0.6270\n",
            "Epoch 191/200\n",
            "21/21 [==============================] - 4s 210ms/step - loss: 0.8095 - accuracy: 0.6301 - val_loss: 0.8033 - val_accuracy: 0.6501\n",
            "Epoch 192/200\n",
            "21/21 [==============================] - 4s 209ms/step - loss: 0.8199 - accuracy: 0.6222 - val_loss: 0.7163 - val_accuracy: 0.6951\n",
            "Epoch 193/200\n",
            "21/21 [==============================] - 4s 211ms/step - loss: 0.8124 - accuracy: 0.6229 - val_loss: 0.8653 - val_accuracy: 0.6131\n",
            "Epoch 194/200\n",
            "21/21 [==============================] - 4s 214ms/step - loss: 0.8188 - accuracy: 0.6204 - val_loss: 0.6859 - val_accuracy: 0.7098\n",
            "Epoch 195/200\n",
            "21/21 [==============================] - 4s 211ms/step - loss: 0.8125 - accuracy: 0.6235 - val_loss: 0.7154 - val_accuracy: 0.6985\n",
            "Epoch 196/200\n",
            "21/21 [==============================] - 4s 208ms/step - loss: 0.8180 - accuracy: 0.6191 - val_loss: 0.7880 - val_accuracy: 0.6566\n",
            "Epoch 197/200\n",
            "21/21 [==============================] - 4s 211ms/step - loss: 0.8019 - accuracy: 0.6278 - val_loss: 0.6702 - val_accuracy: 0.7133\n",
            "Epoch 198/200\n",
            "21/21 [==============================] - 4s 213ms/step - loss: 0.8103 - accuracy: 0.6216 - val_loss: 0.8937 - val_accuracy: 0.6144\n",
            "Epoch 199/200\n",
            "21/21 [==============================] - 5s 220ms/step - loss: 0.8097 - accuracy: 0.6270 - val_loss: 0.7473 - val_accuracy: 0.6876\n",
            "Epoch 200/200\n",
            "21/21 [==============================] - 4s 214ms/step - loss: 0.8081 - accuracy: 0.6210 - val_loss: 0.7709 - val_accuracy: 0.6648\n"
          ],
          "name": "stdout"
        }
      ]
    },
    {
      "cell_type": "code",
      "metadata": {
        "id": "HQTFO16uOsJD",
        "colab_type": "code",
        "colab": {
          "base_uri": "https://localhost:8080/",
          "height": 730
        },
        "outputId": "b5bd85ec-5ef0-4c65-df58-a566ea98e235"
      },
      "source": [
        "loss = history.history['loss']\n",
        "val_loss = history.history['val_loss']\n",
        "\n",
        "acc = history.history['accuracy']\n",
        "val_acc = history.history['val_accuracy']\n",
        "\n",
        "plt.figure(figsize=(10,12))\n",
        "plt.subplot(2, 1, 1)\n",
        "plt.plot(acc, label='Training accuracy')\n",
        "plt.plot(val_acc, label='Validation accuracy')\n",
        "plt.legend(loc='lower right')\n",
        "plt.xlabel('Epoch')\n",
        "plt.ylabel('Accuracy')\n",
        "plt.ylim([0,1])\n",
        "plt.title(\"Training and Validation Accuracy\")\n",
        "\n",
        "plt.subplot(2, 1, 2)\n",
        "plt.plot(loss, label='Training loss')\n",
        "plt.plot(val_loss, label='Validation loss')\n",
        "plt.legend(loc='lower right')\n",
        "plt.xlabel('Epoch')\n",
        "plt.ylabel('loss')\n",
        "plt.title(\"Training and Validation loss\")\n",
        "plt.show()"
      ],
      "execution_count": 42,
      "outputs": [
        {
          "output_type": "display_data",
          "data": {
            "image/png": "[encoded data removed]",
            "text/plain": [
              "<Figure size 720x864 with 2 Axes>"
            ]
          },
          "metadata": {
            "tags": []
          }
        }
      ]
    },
    {
      "cell_type": "code",
      "metadata": {
        "id": "lZ1OCGF6Qt6E",
        "colab_type": "code",
        "colab": {}
      },
      "source": [
        "t"
      ],
      "execution_count": 0,
      "outputs": []
    }
  ]
}