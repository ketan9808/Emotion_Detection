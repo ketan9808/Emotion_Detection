{
  "nbformat": 4,
  "nbformat_minor": 0,
  "metadata": {
    "colab": {
      "name": "Emotion_detection.ipynb",
      "provenance": [],
      "collapsed_sections": [],
      "authorship_tag": "ABX9TyOjtO39ShizjznxWrSmetiO",
      "include_colab_link": true
    },
    "kernelspec": {
      "name": "python3",
      "display_name": "Python 3"
    },
    "accelerator": "GPU"
  },
  "cells": [
    {
      "cell_type": "markdown",
      "metadata": {
        "id": "view-in-github",
        "colab_type": "text"
      },
      "source": [
        "<a href=\"https://colab.research.google.com/github/ketan9808/Emotion_Detection/blob/master/Emotion_detection.ipynb\" target=\"_parent\"><img src=\"https://colab.research.google.com/assets/colab-badge.svg\" alt=\"Open In Colab\"/></a>"
      ]
    },
    {
      "cell_type": "code",
      "metadata": {
        "id": "GHrpv_UjnKUD",
        "colab_type": "code",
        "colab": {}
      },
      "source": [
        "!rm /content/sample_data/*\n",
        "!rmdir /content/sample_data"
      ],
      "execution_count": 0,
      "outputs": []
    },
    {
      "cell_type": "code",
      "metadata": {
        "id": "uovLjN2OnW2O",
        "colab_type": "code",
        "outputId": "bc4b417d-e557-4517-f2f6-7f9fd9c210f5",
        "colab": {
          "resources": {
            "http://localhost:8080/nbextensions/google.colab/files.js": {
              "data": "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",
              "ok": true,
              "headers": [
                [
                  "content-type",
                  "application/javascript"
                ]
              ],
              "status": 200,
              "status_text": ""
            }
          },
          "base_uri": "https://localhost:8080/",
          "height": 108
        }
      },
      "source": [
        "# Everytime you will revisit the notebook after closing the session you have to upload the kaggle.json\n",
        "# in case you restart the runtime you don't need to re-upload the kaggle .json\n",
        "# nither the files that you have downloaded\n",
        "from google.colab import files\n",
        "\n",
        "files.upload() #prompt to upload kaggle.json\n",
        "!mkdir /root/.kaggle #Creating a directory to store kaggle.json\n",
        "!mv /content/kaggle.json /root/.kaggle/kaggle.json #moving kaggle.json to /root/.kaggle directory\n",
        "!ls /root/.kaggle -a #Listing the content of the /root/.kaggle directory\n",
        "!chmod 600 /root/.kaggle/kaggle.json #Changing property of file so that only i can see the key"
      ],
      "execution_count": 4,
      "outputs": [
        {
          "output_type": "display_data",
          "data": {
            "text/html": [
              "\n",
              "     <input type=\"file\" id=\"files-99bd9217-af09-4beb-a1ae-9c8392e47748\" name=\"files[]\" multiple disabled />\n",
              "     <output id=\"result-99bd9217-af09-4beb-a1ae-9c8392e47748\">\n",
              "      Upload widget is only available when the cell has been executed in the\n",
              "      current browser session. Please rerun this cell to enable.\n",
              "      </output>\n",
              "      <script src=\"/nbextensions/google.colab/files.js\"></script> "
            ],
            "text/plain": [
              "<IPython.core.display.HTML object>"
            ]
          },
          "metadata": {
            "tags": []
          }
        },
        {
          "output_type": "stream",
          "text": [
            "Saving kaggle.json to kaggle.json\n",
            "mkdir: cannot create directory ‘/root/.kaggle’: File exists\n",
            ".  ..  kaggle.json\n"
          ],
          "name": "stdout"
        }
      ]
    },
    {
      "cell_type": "code",
      "metadata": {
        "id": "wMOLUUcZnaKN",
        "colab_type": "code",
        "outputId": "a41b12c6-e227-4099-8a5b-989de7743241",
        "colab": {
          "base_uri": "https://localhost:8080/",
          "height": 34
        }
      },
      "source": [
        "# The try except block is used to select tf2.x version\n",
        "try:\n",
        "  %tensorflow_version 2.x\n",
        "except Exception:\n",
        "  pass\n",
        "\n",
        "import tensorflow as tf\n",
        "import kaggle\n",
        "import numpy as np\n",
        "import pandas as pd\n",
        "import matplotlib.pyplot as plt\n",
        "import os\n",
        "import cv2\n",
        "\n",
        "from tensorflow.keras.preprocessing.image import ImageDataGenerator\n",
        "from tensorflow.keras.models import Sequential\n",
        "from tensorflow.keras.layers import Conv2D, MaxPooling2D, Flatten, Dense\n",
        "\n",
        "print(tf.__version__)"
      ],
      "execution_count": 5,
      "outputs": [
        {
          "output_type": "stream",
          "text": [
            "2.2.0-rc1\n"
          ],
          "name": "stdout"
        }
      ]
    },
    {
      "cell_type": "code",
      "metadata": {
        "id": "gM6e107InaEY",
        "colab_type": "code",
        "outputId": "aa2cc324-c6d0-4375-c3f1-11074ebb5d13",
        "colab": {
          "base_uri": "https://localhost:8080/",
          "height": 286
        }
      },
      "source": [
        "!kaggle competitions download -c challenges-in-representation-learning-facial-expression-recognition-challenge"
      ],
      "execution_count": 6,
      "outputs": [
        {
          "output_type": "stream",
          "text": [
            "Warning: Looks like you're using an outdated API Version, please consider updating (server 1.5.6 / client 1.5.4)\n",
            "Downloading example_submission.csv to /content\n",
            "  0% 0.00/7.01k [00:00<?, ?B/s]\n",
            "100% 7.01k/7.01k [00:00<00:00, 6.27MB/s]\n",
            "Downloading test.csv.zip to /content\n",
            " 47% 9.00M/19.3M [00:01<00:00, 11.5MB/s]\n",
            "100% 19.3M/19.3M [00:01<00:00, 18.1MB/s]\n",
            "Downloading train.csv.zip to /content\n",
            " 84% 65.0M/77.3M [00:01<00:00, 21.2MB/s]\n",
            "100% 77.3M/77.3M [00:01<00:00, 44.6MB/s]\n",
            "Downloading icml_face_data.csv.zip to /content\n",
            " 76% 73.0M/96.6M [00:01<00:00, 39.4MB/s]\n",
            "100% 96.6M/96.6M [00:01<00:00, 64.6MB/s]\n",
            "Downloading fer2013.tar.gz to /content\n",
            " 99% 91.0M/92.0M [00:01<00:00, 47.1MB/s]\n",
            "100% 92.0M/92.0M [00:01<00:00, 82.7MB/s]\n"
          ],
          "name": "stdout"
        }
      ]
    },
    {
      "cell_type": "code",
      "metadata": {
        "id": "OfiNNT4tnaBZ",
        "colab_type": "code",
        "outputId": "0663600b-39c8-44f3-ec02-06842fd709a5",
        "colab": {
          "base_uri": "https://localhost:8080/",
          "height": 50
        }
      },
      "source": [
        "# !unzip icml_face_data.csv.zipz\n",
        "!unzip train.csv.zip\n",
        "# !unzip test.csv.zip"
      ],
      "execution_count": 7,
      "outputs": [
        {
          "output_type": "stream",
          "text": [
            "Archive:  train.csv.zip\n",
            "  inflating: train.csv               \n"
          ],
          "name": "stdout"
        }
      ]
    },
    {
      "cell_type": "markdown",
      "metadata": {
        "id": "eWrUiHIyngRW",
        "colab_type": "text"
      },
      "source": [
        "# Data Exploration and Preprocessing\n",
        "some important points\n",
        "- 48X48 grayscals images\n",
        "- Emotions : 0=Angry, 1=Disgust, 2=Fear, 3=Happy, 4=Sad, 5=Surprise, 6=Neutral\n",
        "- train.csv has 2 col. emotion and pixels\n",
        "  - emotion [0-6]\n",
        "  - pixel string containging pixel value ( space-separated pixel value in row major order)\n",
        "- test.csv has only pixel column and we have to predict the emotion\n",
        "\n",
        "\n",
        "- train set has 28709 example\n",
        "- public test 3589 examples\n",
        "- private test 3589 examples\n",
        "- icml has 35887 examples"
      ]
    },
    {
      "cell_type": "code",
      "metadata": {
        "id": "gUn4mYYNnZ_k",
        "colab_type": "code",
        "colab": {}
      },
      "source": [
        "emotion = [\"Angry\", \"Disgust\", \"Fear\", \"Happy\", \"Sad\", \"Surprise\", \"Neutral\"]"
      ],
      "execution_count": 0,
      "outputs": []
    },
    {
      "cell_type": "code",
      "metadata": {
        "id": "-I0zM60JnZ9d",
        "colab_type": "code",
        "outputId": "f6b078b5-96cd-44c3-cfa9-bdf267320507",
        "colab": {
          "base_uri": "https://localhost:8080/",
          "height": 195
        }
      },
      "source": [
        "train = pd.read_csv(\"train.csv\")\n",
        "train.head()"
      ],
      "execution_count": 9,
      "outputs": [
        {
          "output_type": "execute_result",
          "data": {
            "text/html": [
              "<div>\n",
              "<style scoped>\n",
              "    .dataframe tbody tr th:only-of-type {\n",
              "        vertical-align: middle;\n",
              "    }\n",
              "\n",
              "    .dataframe tbody tr th {\n",
              "        vertical-align: top;\n",
              "    }\n",
              "\n",
              "    .dataframe thead th {\n",
              "        text-align: right;\n",
              "    }\n",
              "</style>\n",
              "<table border=\"1\" class=\"dataframe\">\n",
              "  <thead>\n",
              "    <tr style=\"text-align: right;\">\n",
              "      <th></th>\n",
              "      <th>emotion</th>\n",
              "      <th>pixels</th>\n",
              "    </tr>\n",
              "  </thead>\n",
              "  <tbody>\n",
              "    <tr>\n",
              "      <th>0</th>\n",
              "      <td>0</td>\n",
              "      <td>70 80 82 72 58 58 60 63 54 58 60 48 89 115 121...</td>\n",
              "    </tr>\n",
              "    <tr>\n",
              "      <th>1</th>\n",
              "      <td>0</td>\n",
              "      <td>151 150 147 155 148 133 111 140 170 174 182 15...</td>\n",
              "    </tr>\n",
              "    <tr>\n",
              "      <th>2</th>\n",
              "      <td>2</td>\n",
              "      <td>231 212 156 164 174 138 161 173 182 200 106 38...</td>\n",
              "    </tr>\n",
              "    <tr>\n",
              "      <th>3</th>\n",
              "      <td>4</td>\n",
              "      <td>24 32 36 30 32 23 19 20 30 41 21 22 32 34 21 1...</td>\n",
              "    </tr>\n",
              "    <tr>\n",
              "      <th>4</th>\n",
              "      <td>6</td>\n",
              "      <td>4 0 0 0 0 0 0 0 0 0 0 0 3 15 23 28 48 50 58 84...</td>\n",
              "    </tr>\n",
              "  </tbody>\n",
              "</table>\n",
              "</div>"
            ],
            "text/plain": [
              "   emotion                                             pixels\n",
              "0        0  70 80 82 72 58 58 60 63 54 58 60 48 89 115 121...\n",
              "1        0  151 150 147 155 148 133 111 140 170 174 182 15...\n",
              "2        2  231 212 156 164 174 138 161 173 182 200 106 38...\n",
              "3        4  24 32 36 30 32 23 19 20 30 41 21 22 32 34 21 1...\n",
              "4        6  4 0 0 0 0 0 0 0 0 0 0 0 3 15 23 28 48 50 58 84..."
            ]
          },
          "metadata": {
            "tags": []
          },
          "execution_count": 9
        }
      ]
    },
    {
      "cell_type": "code",
      "metadata": {
        "id": "AqpiI8VjnZ6L",
        "colab_type": "code",
        "outputId": "05071705-11b7-4b6f-c891-98d1f1ba52e9",
        "colab": {
          "base_uri": "https://localhost:8080/",
          "height": 118
        }
      },
      "source": [
        "happy_series = train[train.emotion == 3].pixels\n",
        "happy_labels = [[1, 0, 0] for i in range(len(happy_series))]\n",
        "\n",
        "sad_series = train[train.emotion == 4].pixels\n",
        "sad_labels = [[0, 1, 0] for i in range(len(sad_series))]\n",
        "\n",
        "neutral_series = train[train.emotion == 6].pixels\n",
        "neutral_labels = [[0, 0, 1] for i in range(len(neutral_series))]\n",
        "\n",
        "print(len(happy_series), len(happy_labels), len(sad_series), len(sad_labels), len(neutral_series), len(neutral_labels), sep = '\\n')"
      ],
      "execution_count": 10,
      "outputs": [
        {
          "output_type": "stream",
          "text": [
            "7215\n",
            "7215\n",
            "4830\n",
            "4830\n",
            "4965\n",
            "4965\n"
          ],
          "name": "stdout"
        }
      ]
    },
    {
      "cell_type": "code",
      "metadata": {
        "id": "ZnPNUq-_o1o7",
        "colab_type": "code",
        "colab": {}
      },
      "source": [
        "def convert_image(df):\n",
        "  temp = []\n",
        "  label = []\n",
        "  for index, emotion_class in enumerate(df):\n",
        "    for i in emotion_class:\n",
        "      arr = [int(j) for j in i.split()]\n",
        "      arr = np.array(arr, dtype = np.uint8)\n",
        "      arr = arr.reshape(48, 48)\n",
        "      arr = np.expand_dims(arr, -1)\n",
        "      temp.append(arr)\n",
        "      class_label = [0, 0, 0]\n",
        "      class_label[index] = 1\n",
        "      label.append(class_label)\n",
        "  return temp, label"
      ],
      "execution_count": 0,
      "outputs": []
    },
    {
      "cell_type": "code",
      "metadata": {
        "id": "ld_D8WDWv0fb",
        "colab_type": "code",
        "outputId": "fd250444-0ee2-41b6-fdb5-dc76c4e820b7",
        "colab": {
          "base_uri": "https://localhost:8080/",
          "height": 34
        }
      },
      "source": [
        "data, labels = convert_image([happy_series, sad_series, neutral_series])\n",
        "data = np.array(data, dtype = np.uint8)\n",
        "labels = np.array(labels)\n",
        "print(data.shape,labels.shape)\n",
        "\n",
        "total_train = int(data.shape[0]*0.8)\n",
        "total_val = int(data.shape[0]*0.2)"
      ],
      "execution_count": 12,
      "outputs": [
        {
          "output_type": "stream",
          "text": [
            "(17010, 48, 48, 1) (17010, 3)\n"
          ],
          "name": "stdout"
        }
      ]
    },
    {
      "cell_type": "code",
      "metadata": {
        "id": "lcvzKlPanshE",
        "colab_type": "code",
        "colab": {}
      },
      "source": [
        "BATCH_SIZE = 32\n",
        "EPOCHS = 200\n",
        "IMG_HEIGHT = 48\n",
        "IMG_WIDTH = 48"
      ],
      "execution_count": 0,
      "outputs": []
    },
    {
      "cell_type": "code",
      "metadata": {
        "id": "aa3So6gDqb0H",
        "colab_type": "code",
        "colab": {}
      },
      "source": [
        "train_image_generator = ImageDataGenerator(validation_split = 0.2, rescale = 1./255)"
      ],
      "execution_count": 0,
      "outputs": []
    },
    {
      "cell_type": "code",
      "metadata": {
        "id": "DYVFMUX_nsfQ",
        "colab_type": "code",
        "colab": {}
      },
      "source": [
        "train_data_gen = train_image_generator.flow(x = data,\n",
        "                                            y = labels,\n",
        "                                            batch_size = BATCH_SIZE,\n",
        "                                            subset = 'training')\n",
        "validation_data_gen = train_image_generator.flow(x = data,\n",
        "                                                 y = labels,\n",
        "                                                 batch_size=BATCH_SIZE,\n",
        "                                                 subset='validation')"
      ],
      "execution_count": 0,
      "outputs": []
    },
    {
      "cell_type": "code",
      "metadata": {
        "id": "vm6oYl2Dnscm",
        "colab_type": "code",
        "outputId": "429e6595-89b5-478f-826e-65c3e21ce7dd",
        "colab": {
          "base_uri": "https://localhost:8080/",
          "height": 34
        }
      },
      "source": [
        "sample_training_image , sample_training_label = next(train_data_gen)\n",
        "sample_training_image.shape"
      ],
      "execution_count": 16,
      "outputs": [
        {
          "output_type": "execute_result",
          "data": {
            "text/plain": [
              "(32, 48, 48, 1)"
            ]
          },
          "metadata": {
            "tags": []
          },
          "execution_count": 16
        }
      ]
    },
    {
      "cell_type": "code",
      "metadata": {
        "id": "sV2mbz8Ansaz",
        "colab_type": "code",
        "colab": {}
      },
      "source": [
        "def plot_images(images_arr):\n",
        "  fig, axes = plt.subplots(1, 5, figsize = (20, 20))\n",
        "  axes = axes.flatten()\n",
        "  for image, axis in zip(images_arr, axes):\n",
        "    axis.imshow(image)\n",
        "    axis.axis(\"off\")\n",
        "  plt.tight_layout()\n",
        "  plt.show()"
      ],
      "execution_count": 0,
      "outputs": []
    },
    {
      "cell_type": "code",
      "metadata": {
        "id": "rRrdotM9nsY5",
        "colab_type": "code",
        "colab": {}
      },
      "source": [
        "# plot_images(sample_training_image[:5])"
      ],
      "execution_count": 0,
      "outputs": []
    },
    {
      "cell_type": "markdown",
      "metadata": {
        "id": "hzKsIFshn03b",
        "colab_type": "text"
      },
      "source": [
        "# Create your own model\n",
        "I will try the following\n",
        "- Create a baseline Neural Network model\n",
        "- Create a baseline Convolution Neural Network model\n",
        "- Create a Transfer Learning model\n",
        "  - Without fine tuning\n",
        "  - With fine tuning\n",
        "- Create a model with equal number of examples from each class\n",
        "\n",
        "and then tune these models to get better accuracy"
      ]
    },
    {
      "cell_type": "code",
      "metadata": {
        "id": "kPRU3EHknsW2",
        "colab_type": "code",
        "colab": {}
      },
      "source": [
        "model = Sequential([\n",
        "                    Flatten(input_shape=(48, 48, 1)),\n",
        "                    Dense(256, activation='relu'),\n",
        "                    Dense(3, activation='softmax')\n",
        "])\n",
        "\n",
        "model.compile(optimizer='adam', loss='categorical_crossentropy', metrics=['accuracy'])"
      ],
      "execution_count": 0,
      "outputs": []
    },
    {
      "cell_type": "code",
      "metadata": {
        "id": "FwZ7kjX-2zKw",
        "colab_type": "code",
        "outputId": "9fd37dba-29d4-4831-edf2-24eafbae2be1",
        "colab": {
          "base_uri": "https://localhost:8080/",
          "height": 1000
        }
      },
      "source": [
        "history = model.fit(train_data_gen, \n",
        "                  steps_per_epoch=(total_train*0.8)//BATCH_SIZE,\n",
        "                  epochs = EPOCHS,\n",
        "                  validation_data = validation_data_gen,\n",
        "                  validation_steps= (total_train*0.2)//BATCH_SIZE)"
      ],
      "execution_count": 20,
      "outputs": [
        {
          "output_type": "stream",
          "text": [
            "Epoch 1/200\n",
            "340/340 [==============================] - 1s 4ms/step - loss: 1.1226 - accuracy: 0.4095 - val_loss: 1.0694 - val_accuracy: 0.3599\n",
            "Epoch 2/200\n",
            "340/340 [==============================] - 1s 3ms/step - loss: 1.0444 - accuracy: 0.4495 - val_loss: 0.9095 - val_accuracy: 0.6709\n",
            "Epoch 3/200\n",
            "340/340 [==============================] - 1s 3ms/step - loss: 1.0113 - accuracy: 0.4866 - val_loss: 1.0120 - val_accuracy: 0.5248\n",
            "Epoch 4/200\n",
            "340/340 [==============================] - 1s 3ms/step - loss: 1.0023 - accuracy: 0.4925 - val_loss: 0.7327 - val_accuracy: 0.7947\n",
            "Epoch 5/200\n",
            "340/340 [==============================] - 1s 3ms/step - loss: 0.9975 - accuracy: 0.5013 - val_loss: 0.9077 - val_accuracy: 0.6334\n",
            "Epoch 6/200\n",
            "340/340 [==============================] - 1s 3ms/step - loss: 0.9967 - accuracy: 0.5011 - val_loss: 0.9831 - val_accuracy: 0.6022\n",
            "Epoch 7/200\n",
            "340/340 [==============================] - 1s 3ms/step - loss: 0.9775 - accuracy: 0.5204 - val_loss: 1.1983 - val_accuracy: 0.4355\n",
            "Epoch 8/200\n",
            "340/340 [==============================] - 1s 3ms/step - loss: 0.9713 - accuracy: 0.5216 - val_loss: 1.1563 - val_accuracy: 0.4826\n",
            "Epoch 9/200\n",
            "340/340 [==============================] - 1s 3ms/step - loss: 0.9803 - accuracy: 0.5131 - val_loss: 1.4163 - val_accuracy: 0.2409\n",
            "Epoch 10/200\n",
            "340/340 [==============================] - 1s 3ms/step - loss: 0.9799 - accuracy: 0.5114 - val_loss: 1.6491 - val_accuracy: 0.1397\n",
            "Epoch 11/200\n",
            "340/340 [==============================] - 1s 3ms/step - loss: 0.9726 - accuracy: 0.5237 - val_loss: 1.0533 - val_accuracy: 0.5125\n",
            "Epoch 12/200\n",
            "340/340 [==============================] - 1s 3ms/step - loss: 0.9679 - accuracy: 0.5278 - val_loss: 1.1858 - val_accuracy: 0.3981\n",
            "Epoch 13/200\n",
            "340/340 [==============================] - 1s 3ms/step - loss: 0.9600 - accuracy: 0.5301 - val_loss: 1.1880 - val_accuracy: 0.4648\n",
            "Epoch 14/200\n",
            "340/340 [==============================] - 1s 3ms/step - loss: 0.9576 - accuracy: 0.5302 - val_loss: 1.0696 - val_accuracy: 0.5096\n",
            "Epoch 15/200\n",
            "340/340 [==============================] - 1s 3ms/step - loss: 0.9530 - accuracy: 0.5308 - val_loss: 1.3519 - val_accuracy: 0.2724\n",
            "Epoch 16/200\n",
            "340/340 [==============================] - 1s 3ms/step - loss: 0.9451 - accuracy: 0.5388 - val_loss: 0.8409 - val_accuracy: 0.6890\n",
            "Epoch 17/200\n",
            "340/340 [==============================] - 1s 3ms/step - loss: 0.9423 - accuracy: 0.5410 - val_loss: 0.9490 - val_accuracy: 0.6312\n",
            "Epoch 18/200\n",
            "340/340 [==============================] - 1s 3ms/step - loss: 0.9415 - accuracy: 0.5388 - val_loss: 1.1673 - val_accuracy: 0.4818\n",
            "Epoch 19/200\n",
            "340/340 [==============================] - 1s 3ms/step - loss: 0.9317 - accuracy: 0.5491 - val_loss: 1.0364 - val_accuracy: 0.5282\n",
            "Epoch 20/200\n",
            "340/340 [==============================] - 1s 3ms/step - loss: 0.9306 - accuracy: 0.5535 - val_loss: 0.9282 - val_accuracy: 0.6171\n",
            "Epoch 21/200\n",
            "340/340 [==============================] - 1s 3ms/step - loss: 0.9257 - accuracy: 0.5535 - val_loss: 1.1643 - val_accuracy: 0.5085\n",
            "Epoch 22/200\n",
            "340/340 [==============================] - 1s 3ms/step - loss: 0.9259 - accuracy: 0.5486 - val_loss: 1.0031 - val_accuracy: 0.5630\n",
            "Epoch 23/200\n",
            "340/340 [==============================] - 1s 3ms/step - loss: 0.9213 - accuracy: 0.5513 - val_loss: 1.4688 - val_accuracy: 0.3436\n",
            "Epoch 24/200\n",
            "340/340 [==============================] - 1s 3ms/step - loss: 0.9207 - accuracy: 0.5459 - val_loss: 1.2304 - val_accuracy: 0.4018\n",
            "Epoch 25/200\n",
            "340/340 [==============================] - 1s 3ms/step - loss: 0.9160 - accuracy: 0.5592 - val_loss: 1.4892 - val_accuracy: 0.2739\n",
            "Epoch 26/200\n",
            "340/340 [==============================] - 1s 3ms/step - loss: 0.9116 - accuracy: 0.5597 - val_loss: 0.7994 - val_accuracy: 0.6882\n",
            "Epoch 27/200\n",
            "340/340 [==============================] - 1s 3ms/step - loss: 0.9250 - accuracy: 0.5490 - val_loss: 1.0356 - val_accuracy: 0.5167\n",
            "Epoch 28/200\n",
            "340/340 [==============================] - 1s 3ms/step - loss: 0.9030 - accuracy: 0.5660 - val_loss: 1.0884 - val_accuracy: 0.5044\n",
            "Epoch 29/200\n",
            "340/340 [==============================] - 1s 3ms/step - loss: 0.9144 - accuracy: 0.5563 - val_loss: 0.8473 - val_accuracy: 0.6312\n",
            "Epoch 30/200\n",
            "340/340 [==============================] - 1s 3ms/step - loss: 0.9069 - accuracy: 0.5635 - val_loss: 1.0067 - val_accuracy: 0.5311\n",
            "Epoch 31/200\n",
            "340/340 [==============================] - 1s 3ms/step - loss: 0.9105 - accuracy: 0.5605 - val_loss: 0.9473 - val_accuracy: 0.5875\n",
            "Epoch 32/200\n",
            "340/340 [==============================] - 1s 3ms/step - loss: 0.8958 - accuracy: 0.5634 - val_loss: 1.1699 - val_accuracy: 0.4785\n",
            "Epoch 33/200\n",
            "340/340 [==============================] - 1s 3ms/step - loss: 0.9134 - accuracy: 0.5565 - val_loss: 0.9648 - val_accuracy: 0.6053\n",
            "Epoch 34/200\n",
            "340/340 [==============================] - 1s 3ms/step - loss: 0.8917 - accuracy: 0.5706 - val_loss: 1.0728 - val_accuracy: 0.5356\n",
            "Epoch 35/200\n",
            "340/340 [==============================] - 1s 3ms/step - loss: 0.8935 - accuracy: 0.5745 - val_loss: 0.9853 - val_accuracy: 0.5549\n",
            "Epoch 36/200\n",
            "340/340 [==============================] - 1s 3ms/step - loss: 0.8822 - accuracy: 0.5754 - val_loss: 1.0618 - val_accuracy: 0.5213\n",
            "Epoch 37/200\n",
            "340/340 [==============================] - 1s 3ms/step - loss: 0.9037 - accuracy: 0.5611 - val_loss: 0.7808 - val_accuracy: 0.6916\n",
            "Epoch 38/200\n",
            "340/340 [==============================] - 1s 3ms/step - loss: 0.8835 - accuracy: 0.5768 - val_loss: 1.1437 - val_accuracy: 0.4792\n",
            "Epoch 39/200\n",
            "340/340 [==============================] - 1s 3ms/step - loss: 0.8894 - accuracy: 0.5684 - val_loss: 0.9656 - val_accuracy: 0.5775\n",
            "Epoch 40/200\n",
            "340/340 [==============================] - 1s 3ms/step - loss: 0.8913 - accuracy: 0.5733 - val_loss: 0.7920 - val_accuracy: 0.6764\n",
            "Epoch 41/200\n",
            "340/340 [==============================] - 1s 3ms/step - loss: 0.8708 - accuracy: 0.5855 - val_loss: 0.8107 - val_accuracy: 0.6621\n",
            "Epoch 42/200\n",
            "340/340 [==============================] - 1s 3ms/step - loss: 0.8862 - accuracy: 0.5803 - val_loss: 1.0849 - val_accuracy: 0.5156\n",
            "Epoch 43/200\n",
            "340/340 [==============================] - 1s 3ms/step - loss: 0.8788 - accuracy: 0.5808 - val_loss: 1.2479 - val_accuracy: 0.4262\n",
            "Epoch 44/200\n",
            "340/340 [==============================] - 1s 3ms/step - loss: 0.8805 - accuracy: 0.5712 - val_loss: 1.2159 - val_accuracy: 0.4615\n",
            "Epoch 45/200\n",
            "340/340 [==============================] - 1s 3ms/step - loss: 0.8785 - accuracy: 0.5780 - val_loss: 0.9206 - val_accuracy: 0.5923\n",
            "Epoch 46/200\n",
            "340/340 [==============================] - 1s 3ms/step - loss: 0.8730 - accuracy: 0.5850 - val_loss: 0.9733 - val_accuracy: 0.5761\n",
            "Epoch 47/200\n",
            "340/340 [==============================] - 1s 3ms/step - loss: 0.8669 - accuracy: 0.5877 - val_loss: 0.8922 - val_accuracy: 0.6297\n",
            "Epoch 48/200\n",
            "340/340 [==============================] - 1s 3ms/step - loss: 0.8710 - accuracy: 0.5852 - val_loss: 0.8367 - val_accuracy: 0.6294\n",
            "Epoch 49/200\n",
            "340/340 [==============================] - 1s 3ms/step - loss: 0.8737 - accuracy: 0.5842 - val_loss: 1.1410 - val_accuracy: 0.5282\n",
            "Epoch 50/200\n",
            "340/340 [==============================] - 1s 3ms/step - loss: 0.8631 - accuracy: 0.5921 - val_loss: 1.1813 - val_accuracy: 0.4603\n",
            "Epoch 51/200\n",
            "340/340 [==============================] - 1s 3ms/step - loss: 0.8676 - accuracy: 0.5888 - val_loss: 1.3341 - val_accuracy: 0.3636\n",
            "Epoch 52/200\n",
            "340/340 [==============================] - 1s 3ms/step - loss: 0.8651 - accuracy: 0.5832 - val_loss: 0.9807 - val_accuracy: 0.5764\n",
            "Epoch 53/200\n",
            "340/340 [==============================] - 1s 3ms/step - loss: 0.8671 - accuracy: 0.5858 - val_loss: 1.1318 - val_accuracy: 0.5289\n",
            "Epoch 54/200\n",
            "340/340 [==============================] - 1s 3ms/step - loss: 0.8567 - accuracy: 0.5942 - val_loss: 1.0877 - val_accuracy: 0.5026\n",
            "Epoch 55/200\n",
            "340/340 [==============================] - 1s 3ms/step - loss: 0.8689 - accuracy: 0.5830 - val_loss: 1.1738 - val_accuracy: 0.4648\n",
            "Epoch 56/200\n",
            "340/340 [==============================] - 1s 3ms/step - loss: 0.8570 - accuracy: 0.5900 - val_loss: 0.9154 - val_accuracy: 0.6086\n",
            "Epoch 57/200\n",
            "340/340 [==============================] - 1s 3ms/step - loss: 0.8431 - accuracy: 0.5977 - val_loss: 1.2725 - val_accuracy: 0.4085\n",
            "Epoch 58/200\n",
            "340/340 [==============================] - 1s 3ms/step - loss: 0.8599 - accuracy: 0.5917 - val_loss: 1.1419 - val_accuracy: 0.4815\n",
            "Epoch 59/200\n",
            "340/340 [==============================] - 1s 3ms/step - loss: 0.8481 - accuracy: 0.5988 - val_loss: 1.0873 - val_accuracy: 0.5385\n",
            "Epoch 60/200\n",
            "340/340 [==============================] - 1s 3ms/step - loss: 0.8647 - accuracy: 0.5869 - val_loss: 0.9731 - val_accuracy: 0.6093\n",
            "Epoch 61/200\n",
            "340/340 [==============================] - 1s 3ms/step - loss: 0.8476 - accuracy: 0.5979 - val_loss: 1.1962 - val_accuracy: 0.5041\n",
            "Epoch 62/200\n",
            "340/340 [==============================] - 1s 3ms/step - loss: 0.8492 - accuracy: 0.5947 - val_loss: 1.1193 - val_accuracy: 0.4787\n",
            "Epoch 63/200\n",
            "340/340 [==============================] - 1s 3ms/step - loss: 0.8367 - accuracy: 0.6049 - val_loss: 1.1506 - val_accuracy: 0.5234\n",
            "Epoch 64/200\n",
            "340/340 [==============================] - 1s 3ms/step - loss: 0.8428 - accuracy: 0.5999 - val_loss: 1.1774 - val_accuracy: 0.4715\n",
            "Epoch 65/200\n",
            "340/340 [==============================] - 1s 3ms/step - loss: 0.8431 - accuracy: 0.6041 - val_loss: 0.9545 - val_accuracy: 0.5689\n",
            "Epoch 66/200\n",
            "340/340 [==============================] - 1s 3ms/step - loss: 0.8353 - accuracy: 0.6052 - val_loss: 0.8667 - val_accuracy: 0.6586\n",
            "Epoch 67/200\n",
            "340/340 [==============================] - 1s 3ms/step - loss: 0.8355 - accuracy: 0.6095 - val_loss: 1.1569 - val_accuracy: 0.4518\n",
            "Epoch 68/200\n",
            "340/340 [==============================] - 1s 3ms/step - loss: 0.8459 - accuracy: 0.5954 - val_loss: 0.9009 - val_accuracy: 0.6798\n",
            "Epoch 69/200\n",
            "340/340 [==============================] - 1s 3ms/step - loss: 0.8420 - accuracy: 0.6046 - val_loss: 1.0278 - val_accuracy: 0.4870\n",
            "Epoch 70/200\n",
            "340/340 [==============================] - 1s 3ms/step - loss: 0.8308 - accuracy: 0.6076 - val_loss: 1.0417 - val_accuracy: 0.5385\n",
            "Epoch 71/200\n",
            "340/340 [==============================] - 1s 3ms/step - loss: 0.8458 - accuracy: 0.6008 - val_loss: 0.8044 - val_accuracy: 0.6616\n",
            "Epoch 72/200\n",
            "340/340 [==============================] - 1s 3ms/step - loss: 0.8273 - accuracy: 0.6122 - val_loss: 1.1815 - val_accuracy: 0.4978\n",
            "Epoch 73/200\n",
            "340/340 [==============================] - 1s 3ms/step - loss: 0.8332 - accuracy: 0.6050 - val_loss: 0.8770 - val_accuracy: 0.6256\n",
            "Epoch 74/200\n",
            "340/340 [==============================] - 1s 3ms/step - loss: 0.8355 - accuracy: 0.6062 - val_loss: 1.2357 - val_accuracy: 0.4804\n",
            "Epoch 75/200\n",
            "340/340 [==============================] - 1s 3ms/step - loss: 0.8194 - accuracy: 0.6094 - val_loss: 1.3314 - val_accuracy: 0.4344\n",
            "Epoch 76/200\n",
            "340/340 [==============================] - 1s 3ms/step - loss: 0.8233 - accuracy: 0.6147 - val_loss: 1.0399 - val_accuracy: 0.5497\n",
            "Epoch 77/200\n",
            "340/340 [==============================] - 1s 3ms/step - loss: 0.8208 - accuracy: 0.6143 - val_loss: 1.0534 - val_accuracy: 0.5603\n",
            "Epoch 78/200\n",
            "340/340 [==============================] - 1s 3ms/step - loss: 0.8219 - accuracy: 0.6153 - val_loss: 1.3156 - val_accuracy: 0.4481\n",
            "Epoch 79/200\n",
            "340/340 [==============================] - 1s 3ms/step - loss: 0.8291 - accuracy: 0.6045 - val_loss: 0.9625 - val_accuracy: 0.6190\n",
            "Epoch 80/200\n",
            "340/340 [==============================] - 1s 3ms/step - loss: 0.8222 - accuracy: 0.6101 - val_loss: 0.8740 - val_accuracy: 0.6412\n",
            "Epoch 81/200\n",
            "340/340 [==============================] - 1s 3ms/step - loss: 0.8138 - accuracy: 0.6238 - val_loss: 1.5059 - val_accuracy: 0.3410\n",
            "Epoch 82/200\n",
            "340/340 [==============================] - 1s 3ms/step - loss: 0.8214 - accuracy: 0.6182 - val_loss: 1.4093 - val_accuracy: 0.3603\n",
            "Epoch 83/200\n",
            "340/340 [==============================] - 1s 3ms/step - loss: 0.8108 - accuracy: 0.6145 - val_loss: 0.9708 - val_accuracy: 0.5890\n",
            "Epoch 84/200\n",
            "340/340 [==============================] - 1s 3ms/step - loss: 0.8259 - accuracy: 0.6114 - val_loss: 1.2790 - val_accuracy: 0.4381\n",
            "Epoch 85/200\n",
            "340/340 [==============================] - 1s 3ms/step - loss: 0.8205 - accuracy: 0.6138 - val_loss: 1.0318 - val_accuracy: 0.5345\n",
            "Epoch 86/200\n",
            "340/340 [==============================] - 1s 3ms/step - loss: 0.8097 - accuracy: 0.6209 - val_loss: 1.1694 - val_accuracy: 0.5385\n",
            "Epoch 87/200\n",
            "340/340 [==============================] - 1s 3ms/step - loss: 0.8128 - accuracy: 0.6229 - val_loss: 0.8913 - val_accuracy: 0.6702\n",
            "Epoch 88/200\n",
            "340/340 [==============================] - 1s 3ms/step - loss: 0.8157 - accuracy: 0.6173 - val_loss: 1.0746 - val_accuracy: 0.5263\n",
            "Epoch 89/200\n",
            "340/340 [==============================] - 1s 3ms/step - loss: 0.8025 - accuracy: 0.6256 - val_loss: 1.3873 - val_accuracy: 0.4422\n",
            "Epoch 90/200\n",
            "340/340 [==============================] - 1s 3ms/step - loss: 0.8107 - accuracy: 0.6197 - val_loss: 1.2378 - val_accuracy: 0.4640\n",
            "Epoch 91/200\n",
            "340/340 [==============================] - 1s 3ms/step - loss: 0.7937 - accuracy: 0.6302 - val_loss: 0.8038 - val_accuracy: 0.6775\n",
            "Epoch 92/200\n",
            "340/340 [==============================] - 1s 3ms/step - loss: 0.8092 - accuracy: 0.6274 - val_loss: 0.9895 - val_accuracy: 0.5816\n",
            "Epoch 93/200\n",
            "340/340 [==============================] - 1s 3ms/step - loss: 0.7968 - accuracy: 0.6318 - val_loss: 1.4567 - val_accuracy: 0.4088\n",
            "Epoch 94/200\n",
            "340/340 [==============================] - 1s 3ms/step - loss: 0.8045 - accuracy: 0.6248 - val_loss: 1.4505 - val_accuracy: 0.4229\n",
            "Epoch 95/200\n",
            "340/340 [==============================] - 1s 3ms/step - loss: 0.7890 - accuracy: 0.6341 - val_loss: 0.9911 - val_accuracy: 0.6019\n",
            "Epoch 96/200\n",
            "340/340 [==============================] - 1s 3ms/step - loss: 0.7948 - accuracy: 0.6379 - val_loss: 1.1309 - val_accuracy: 0.5589\n",
            "Epoch 97/200\n",
            "340/340 [==============================] - 1s 3ms/step - loss: 0.7964 - accuracy: 0.6293 - val_loss: 1.3941 - val_accuracy: 0.4618\n",
            "Epoch 98/200\n",
            "340/340 [==============================] - 1s 3ms/step - loss: 0.8022 - accuracy: 0.6287 - val_loss: 1.2565 - val_accuracy: 0.5026\n",
            "Epoch 99/200\n",
            "340/340 [==============================] - 1s 3ms/step - loss: 0.7939 - accuracy: 0.6363 - val_loss: 1.3240 - val_accuracy: 0.4470\n",
            "Epoch 100/200\n",
            "340/340 [==============================] - 1s 3ms/step - loss: 0.7786 - accuracy: 0.6402 - val_loss: 0.9373 - val_accuracy: 0.6179\n",
            "Epoch 101/200\n",
            "340/340 [==============================] - 1s 3ms/step - loss: 0.7922 - accuracy: 0.6327 - val_loss: 1.0247 - val_accuracy: 0.6056\n",
            "Epoch 102/200\n",
            "340/340 [==============================] - 1s 3ms/step - loss: 0.7838 - accuracy: 0.6346 - val_loss: 1.0800 - val_accuracy: 0.6088\n",
            "Epoch 103/200\n",
            "340/340 [==============================] - 1s 3ms/step - loss: 0.8033 - accuracy: 0.6224 - val_loss: 1.1569 - val_accuracy: 0.5259\n",
            "Epoch 104/200\n",
            "340/340 [==============================] - 1s 3ms/step - loss: 0.7787 - accuracy: 0.6405 - val_loss: 1.2619 - val_accuracy: 0.4878\n",
            "Epoch 105/200\n",
            "340/340 [==============================] - 1s 3ms/step - loss: 0.7801 - accuracy: 0.6334 - val_loss: 1.0819 - val_accuracy: 0.5419\n",
            "Epoch 106/200\n",
            "340/340 [==============================] - 1s 3ms/step - loss: 0.7891 - accuracy: 0.6346 - val_loss: 1.3002 - val_accuracy: 0.4893\n",
            "Epoch 107/200\n",
            "340/340 [==============================] - 1s 3ms/step - loss: 0.7783 - accuracy: 0.6405 - val_loss: 1.1055 - val_accuracy: 0.5754\n",
            "Epoch 108/200\n",
            "340/340 [==============================] - 1s 3ms/step - loss: 0.7823 - accuracy: 0.6354 - val_loss: 1.0772 - val_accuracy: 0.5949\n",
            "Epoch 109/200\n",
            "340/340 [==============================] - 1s 3ms/step - loss: 0.7845 - accuracy: 0.6348 - val_loss: 0.9432 - val_accuracy: 0.6223\n",
            "Epoch 110/200\n",
            "340/340 [==============================] - 1s 3ms/step - loss: 0.7744 - accuracy: 0.6371 - val_loss: 1.2416 - val_accuracy: 0.5363\n",
            "Epoch 111/200\n",
            "340/340 [==============================] - 1s 3ms/step - loss: 0.7760 - accuracy: 0.6429 - val_loss: 1.2638 - val_accuracy: 0.4985\n",
            "Epoch 112/200\n",
            "340/340 [==============================] - 1s 3ms/step - loss: 0.7763 - accuracy: 0.6437 - val_loss: 1.0394 - val_accuracy: 0.5878\n",
            "Epoch 113/200\n",
            "340/340 [==============================] - 1s 3ms/step - loss: 0.7693 - accuracy: 0.6446 - val_loss: 1.2236 - val_accuracy: 0.5044\n",
            "Epoch 114/200\n",
            "340/340 [==============================] - 1s 3ms/step - loss: 0.7846 - accuracy: 0.6335 - val_loss: 1.2126 - val_accuracy: 0.4937\n",
            "Epoch 115/200\n",
            "340/340 [==============================] - 1s 3ms/step - loss: 0.7654 - accuracy: 0.6466 - val_loss: 1.2683 - val_accuracy: 0.5159\n",
            "Epoch 116/200\n",
            "340/340 [==============================] - 1s 3ms/step - loss: 0.7679 - accuracy: 0.6469 - val_loss: 0.9029 - val_accuracy: 0.6256\n",
            "Epoch 117/200\n",
            "340/340 [==============================] - 1s 3ms/step - loss: 0.7691 - accuracy: 0.6487 - val_loss: 1.3833 - val_accuracy: 0.4633\n",
            "Epoch 118/200\n",
            "340/340 [==============================] - 1s 3ms/step - loss: 0.7819 - accuracy: 0.6387 - val_loss: 1.2753 - val_accuracy: 0.5125\n",
            "Epoch 119/200\n",
            "340/340 [==============================] - 1s 3ms/step - loss: 0.7764 - accuracy: 0.6410 - val_loss: 0.7786 - val_accuracy: 0.7001\n",
            "Epoch 120/200\n",
            "340/340 [==============================] - 1s 3ms/step - loss: 0.7702 - accuracy: 0.6416 - val_loss: 1.1995 - val_accuracy: 0.5330\n",
            "Epoch 121/200\n",
            "340/340 [==============================] - 1s 3ms/step - loss: 0.7666 - accuracy: 0.6456 - val_loss: 1.4548 - val_accuracy: 0.4136\n",
            "Epoch 122/200\n",
            "340/340 [==============================] - 1s 3ms/step - loss: 0.7717 - accuracy: 0.6417 - val_loss: 1.1057 - val_accuracy: 0.5204\n",
            "Epoch 123/200\n",
            "340/340 [==============================] - 1s 3ms/step - loss: 0.7660 - accuracy: 0.6433 - val_loss: 1.5316 - val_accuracy: 0.4217\n",
            "Epoch 124/200\n",
            "340/340 [==============================] - 1s 3ms/step - loss: 0.7596 - accuracy: 0.6498 - val_loss: 1.3040 - val_accuracy: 0.4818\n",
            "Epoch 125/200\n",
            "340/340 [==============================] - 1s 3ms/step - loss: 0.7651 - accuracy: 0.6474 - val_loss: 1.2859 - val_accuracy: 0.5285\n",
            "Epoch 126/200\n",
            "340/340 [==============================] - 1s 3ms/step - loss: 0.7561 - accuracy: 0.6481 - val_loss: 1.4584 - val_accuracy: 0.4563\n",
            "Epoch 127/200\n",
            "340/340 [==============================] - 1s 3ms/step - loss: 0.7602 - accuracy: 0.6464 - val_loss: 1.2539 - val_accuracy: 0.5052\n",
            "Epoch 128/200\n",
            "340/340 [==============================] - 1s 3ms/step - loss: 0.7530 - accuracy: 0.6525 - val_loss: 1.3599 - val_accuracy: 0.4746\n",
            "Epoch 129/200\n",
            "340/340 [==============================] - 1s 3ms/step - loss: 0.7549 - accuracy: 0.6551 - val_loss: 1.5194 - val_accuracy: 0.4418\n",
            "Epoch 130/200\n",
            "340/340 [==============================] - 1s 3ms/step - loss: 0.7548 - accuracy: 0.6514 - val_loss: 1.6531 - val_accuracy: 0.3488\n",
            "Epoch 131/200\n",
            "340/340 [==============================] - 1s 3ms/step - loss: 0.7455 - accuracy: 0.6580 - val_loss: 1.3174 - val_accuracy: 0.4648\n",
            "Epoch 132/200\n",
            "340/340 [==============================] - 1s 3ms/step - loss: 0.7583 - accuracy: 0.6478 - val_loss: 1.3185 - val_accuracy: 0.4826\n",
            "Epoch 133/200\n",
            "340/340 [==============================] - 1s 3ms/step - loss: 0.7445 - accuracy: 0.6590 - val_loss: 1.0812 - val_accuracy: 0.5750\n",
            "Epoch 134/200\n",
            "340/340 [==============================] - 1s 3ms/step - loss: 0.7484 - accuracy: 0.6569 - val_loss: 0.9673 - val_accuracy: 0.6197\n",
            "Epoch 135/200\n",
            "340/340 [==============================] - 1s 3ms/step - loss: 0.7495 - accuracy: 0.6500 - val_loss: 1.2217 - val_accuracy: 0.5400\n",
            "Epoch 136/200\n",
            "340/340 [==============================] - 1s 3ms/step - loss: 0.7536 - accuracy: 0.6558 - val_loss: 0.9805 - val_accuracy: 0.6305\n",
            "Epoch 137/200\n",
            "340/340 [==============================] - 1s 3ms/step - loss: 0.7545 - accuracy: 0.6523 - val_loss: 1.2560 - val_accuracy: 0.5189\n",
            "Epoch 138/200\n",
            "340/340 [==============================] - 1s 3ms/step - loss: 0.7434 - accuracy: 0.6598 - val_loss: 1.1975 - val_accuracy: 0.5158\n",
            "Epoch 139/200\n",
            "340/340 [==============================] - 1s 3ms/step - loss: 0.7428 - accuracy: 0.6621 - val_loss: 1.0765 - val_accuracy: 0.6108\n",
            "Epoch 140/200\n",
            "340/340 [==============================] - 1s 3ms/step - loss: 0.7558 - accuracy: 0.6489 - val_loss: 0.9312 - val_accuracy: 0.6268\n",
            "Epoch 141/200\n",
            "340/340 [==============================] - 1s 3ms/step - loss: 0.7498 - accuracy: 0.6560 - val_loss: 1.1673 - val_accuracy: 0.5382\n",
            "Epoch 142/200\n",
            "340/340 [==============================] - 1s 3ms/step - loss: 0.7486 - accuracy: 0.6527 - val_loss: 1.6571 - val_accuracy: 0.4033\n",
            "Epoch 143/200\n",
            "340/340 [==============================] - 1s 3ms/step - loss: 0.7442 - accuracy: 0.6591 - val_loss: 1.3206 - val_accuracy: 0.4761\n",
            "Epoch 144/200\n",
            "340/340 [==============================] - 1s 3ms/step - loss: 0.7401 - accuracy: 0.6594 - val_loss: 1.1653 - val_accuracy: 0.5500\n",
            "Epoch 145/200\n",
            "340/340 [==============================] - 1s 3ms/step - loss: 0.7429 - accuracy: 0.6592 - val_loss: 1.1062 - val_accuracy: 0.5764\n",
            "Epoch 146/200\n",
            "340/340 [==============================] - 1s 3ms/step - loss: 0.7344 - accuracy: 0.6665 - val_loss: 1.1205 - val_accuracy: 0.5656\n",
            "Epoch 147/200\n",
            "340/340 [==============================] - 1s 3ms/step - loss: 0.7379 - accuracy: 0.6637 - val_loss: 0.8947 - val_accuracy: 0.6379\n",
            "Epoch 148/200\n",
            "340/340 [==============================] - 1s 3ms/step - loss: 0.7341 - accuracy: 0.6629 - val_loss: 1.1673 - val_accuracy: 0.5570\n",
            "Epoch 149/200\n",
            "340/340 [==============================] - 1s 3ms/step - loss: 0.7361 - accuracy: 0.6627 - val_loss: 1.6816 - val_accuracy: 0.3614\n",
            "Epoch 150/200\n",
            "340/340 [==============================] - 1s 3ms/step - loss: 0.7394 - accuracy: 0.6627 - val_loss: 1.1307 - val_accuracy: 0.5934\n",
            "Epoch 151/200\n",
            "340/340 [==============================] - 1s 3ms/step - loss: 0.7397 - accuracy: 0.6562 - val_loss: 1.0742 - val_accuracy: 0.6179\n",
            "Epoch 152/200\n",
            "340/340 [==============================] - 1s 3ms/step - loss: 0.7237 - accuracy: 0.6625 - val_loss: 1.0662 - val_accuracy: 0.5956\n",
            "Epoch 153/200\n",
            "340/340 [==============================] - 1s 3ms/step - loss: 0.7329 - accuracy: 0.6646 - val_loss: 1.2934 - val_accuracy: 0.5713\n",
            "Epoch 154/200\n",
            "340/340 [==============================] - 1s 3ms/step - loss: 0.7287 - accuracy: 0.6677 - val_loss: 1.3120 - val_accuracy: 0.4804\n",
            "Epoch 155/200\n",
            "340/340 [==============================] - 1s 3ms/step - loss: 0.7207 - accuracy: 0.6680 - val_loss: 1.2175 - val_accuracy: 0.5630\n",
            "Epoch 156/200\n",
            "340/340 [==============================] - 1s 3ms/step - loss: 0.7243 - accuracy: 0.6681 - val_loss: 1.0361 - val_accuracy: 0.6597\n",
            "Epoch 157/200\n",
            "340/340 [==============================] - 1s 3ms/step - loss: 0.7272 - accuracy: 0.6643 - val_loss: 1.2392 - val_accuracy: 0.5474\n",
            "Epoch 158/200\n",
            "340/340 [==============================] - 1s 3ms/step - loss: 0.7365 - accuracy: 0.6642 - val_loss: 1.2996 - val_accuracy: 0.5404\n",
            "Epoch 159/200\n",
            "340/340 [==============================] - 1s 3ms/step - loss: 0.7499 - accuracy: 0.6608 - val_loss: 1.2763 - val_accuracy: 0.5523\n",
            "Epoch 160/200\n",
            "340/340 [==============================] - 1s 3ms/step - loss: 0.7198 - accuracy: 0.6702 - val_loss: 1.1815 - val_accuracy: 0.5756\n",
            "Epoch 161/200\n",
            "340/340 [==============================] - 1s 3ms/step - loss: 0.7164 - accuracy: 0.6702 - val_loss: 1.2995 - val_accuracy: 0.5348\n",
            "Epoch 162/200\n",
            "340/340 [==============================] - 1s 3ms/step - loss: 0.7283 - accuracy: 0.6632 - val_loss: 1.2114 - val_accuracy: 0.5467\n",
            "Epoch 163/200\n",
            "340/340 [==============================] - 1s 3ms/step - loss: 0.7165 - accuracy: 0.6737 - val_loss: 0.9470 - val_accuracy: 0.6457\n",
            "Epoch 164/200\n",
            "340/340 [==============================] - 1s 3ms/step - loss: 0.7344 - accuracy: 0.6615 - val_loss: 1.4312 - val_accuracy: 0.4772\n",
            "Epoch 165/200\n",
            "340/340 [==============================] - 1s 3ms/step - loss: 0.7220 - accuracy: 0.6698 - val_loss: 1.2939 - val_accuracy: 0.5285\n",
            "Epoch 166/200\n",
            "340/340 [==============================] - 1s 3ms/step - loss: 0.7251 - accuracy: 0.6668 - val_loss: 1.1947 - val_accuracy: 0.5515\n",
            "Epoch 167/200\n",
            "340/340 [==============================] - 1s 3ms/step - loss: 0.7188 - accuracy: 0.6700 - val_loss: 1.8642 - val_accuracy: 0.3440\n",
            "Epoch 168/200\n",
            "340/340 [==============================] - 1s 3ms/step - loss: 0.7152 - accuracy: 0.6738 - val_loss: 1.7732 - val_accuracy: 0.3940\n",
            "Epoch 169/200\n",
            "340/340 [==============================] - 1s 3ms/step - loss: 0.7168 - accuracy: 0.6764 - val_loss: 1.0517 - val_accuracy: 0.6085\n",
            "Epoch 170/200\n",
            "340/340 [==============================] - 1s 3ms/step - loss: 0.7196 - accuracy: 0.6669 - val_loss: 1.6004 - val_accuracy: 0.4229\n",
            "Epoch 171/200\n",
            "340/340 [==============================] - 1s 3ms/step - loss: 0.7079 - accuracy: 0.6819 - val_loss: 1.4377 - val_accuracy: 0.4896\n",
            "Epoch 172/200\n",
            "340/340 [==============================] - 1s 3ms/step - loss: 0.7074 - accuracy: 0.6816 - val_loss: 1.1515 - val_accuracy: 0.5864\n",
            "Epoch 173/200\n",
            "340/340 [==============================] - 1s 3ms/step - loss: 0.7147 - accuracy: 0.6708 - val_loss: 1.1736 - val_accuracy: 0.5567\n",
            "Epoch 174/200\n",
            "340/340 [==============================] - 1s 3ms/step - loss: 0.7219 - accuracy: 0.6687 - val_loss: 1.0028 - val_accuracy: 0.6287\n",
            "Epoch 175/200\n",
            "340/340 [==============================] - 1s 3ms/step - loss: 0.7199 - accuracy: 0.6683 - val_loss: 1.4323 - val_accuracy: 0.5319\n",
            "Epoch 176/200\n",
            "340/340 [==============================] - 1s 3ms/step - loss: 0.7080 - accuracy: 0.6794 - val_loss: 1.1467 - val_accuracy: 0.5715\n",
            "Epoch 177/200\n",
            "340/340 [==============================] - 1s 3ms/step - loss: 0.7006 - accuracy: 0.6801 - val_loss: 1.3852 - val_accuracy: 0.5107\n",
            "Epoch 178/200\n",
            "340/340 [==============================] - 1s 3ms/step - loss: 0.7235 - accuracy: 0.6652 - val_loss: 1.5865 - val_accuracy: 0.4663\n",
            "Epoch 179/200\n",
            "340/340 [==============================] - 1s 3ms/step - loss: 0.7073 - accuracy: 0.6765 - val_loss: 1.1304 - val_accuracy: 0.6187\n",
            "Epoch 180/200\n",
            "340/340 [==============================] - 1s 3ms/step - loss: 0.7020 - accuracy: 0.6806 - val_loss: 1.3156 - val_accuracy: 0.5096\n",
            "Epoch 181/200\n",
            "340/340 [==============================] - 1s 3ms/step - loss: 0.6993 - accuracy: 0.6807 - val_loss: 1.2634 - val_accuracy: 0.5282\n",
            "Epoch 182/200\n",
            "340/340 [==============================] - 1s 3ms/step - loss: 0.7257 - accuracy: 0.6611 - val_loss: 1.2431 - val_accuracy: 0.5148\n",
            "Epoch 183/200\n",
            "340/340 [==============================] - 1s 3ms/step - loss: 0.6981 - accuracy: 0.6814 - val_loss: 1.3394 - val_accuracy: 0.5311\n",
            "Epoch 184/200\n",
            "340/340 [==============================] - 1s 3ms/step - loss: 0.7163 - accuracy: 0.6719 - val_loss: 1.4253 - val_accuracy: 0.5037\n",
            "Epoch 185/200\n",
            "340/340 [==============================] - 1s 3ms/step - loss: 0.6946 - accuracy: 0.6861 - val_loss: 1.2835 - val_accuracy: 0.5489\n",
            "Epoch 186/200\n",
            "340/340 [==============================] - 1s 3ms/step - loss: 0.7027 - accuracy: 0.6793 - val_loss: 1.1107 - val_accuracy: 0.5612\n",
            "Epoch 187/200\n",
            "340/340 [==============================] - 1s 3ms/step - loss: 0.7072 - accuracy: 0.6724 - val_loss: 1.5847 - val_accuracy: 0.4852\n",
            "Epoch 188/200\n",
            "340/340 [==============================] - 1s 3ms/step - loss: 0.6934 - accuracy: 0.6835 - val_loss: 0.8624 - val_accuracy: 0.6887\n",
            "Epoch 189/200\n",
            "340/340 [==============================] - 1s 3ms/step - loss: 0.6922 - accuracy: 0.6850 - val_loss: 1.8187 - val_accuracy: 0.4048\n",
            "Epoch 190/200\n",
            "340/340 [==============================] - 1s 3ms/step - loss: 0.7079 - accuracy: 0.6760 - val_loss: 1.7439 - val_accuracy: 0.4118\n",
            "Epoch 191/200\n",
            "340/340 [==============================] - 1s 3ms/step - loss: 0.7036 - accuracy: 0.6768 - val_loss: 1.1862 - val_accuracy: 0.5560\n",
            "Epoch 192/200\n",
            "340/340 [==============================] - 1s 3ms/step - loss: 0.7046 - accuracy: 0.6790 - val_loss: 1.7214 - val_accuracy: 0.4648\n",
            "Epoch 193/200\n",
            "340/340 [==============================] - 1s 3ms/step - loss: 0.6919 - accuracy: 0.6858 - val_loss: 1.3792 - val_accuracy: 0.5285\n",
            "Epoch 194/200\n",
            "340/340 [==============================] - 1s 3ms/step - loss: 0.6806 - accuracy: 0.6936 - val_loss: 1.5619 - val_accuracy: 0.5004\n",
            "Epoch 195/200\n",
            "340/340 [==============================] - 1s 3ms/step - loss: 0.7051 - accuracy: 0.6779 - val_loss: 1.3030 - val_accuracy: 0.5341\n",
            "Epoch 196/200\n",
            "340/340 [==============================] - 1s 3ms/step - loss: 0.6886 - accuracy: 0.6843 - val_loss: 1.2943 - val_accuracy: 0.5734\n",
            "Epoch 197/200\n",
            "340/340 [==============================] - 1s 3ms/step - loss: 0.6800 - accuracy: 0.6909 - val_loss: 1.3815 - val_accuracy: 0.5845\n",
            "Epoch 198/200\n",
            "340/340 [==============================] - 1s 3ms/step - loss: 0.6960 - accuracy: 0.6751 - val_loss: 1.1468 - val_accuracy: 0.6216\n",
            "Epoch 199/200\n",
            "340/340 [==============================] - 1s 3ms/step - loss: 0.6943 - accuracy: 0.6773 - val_loss: 1.1846 - val_accuracy: 0.6081\n",
            "Epoch 200/200\n",
            "340/340 [==============================] - 1s 3ms/step - loss: 0.6929 - accuracy: 0.6843 - val_loss: 1.2515 - val_accuracy: 0.5804\n"
          ],
          "name": "stdout"
        }
      ]
    },
    {
      "cell_type": "code",
      "metadata": {
        "id": "HQTFO16uOsJD",
        "colab_type": "code",
        "colab": {
          "base_uri": "https://localhost:8080/",
          "height": 730
        },
        "outputId": "f1f02d72-9c1c-4e82-dfd2-9b9878dd1f1d"
      },
      "source": [
        "loss = history.history['loss']\n",
        "val_loss = loss = history.history['val_loss']\n",
        "\n",
        "acc = history.history['accuracy']\n",
        "val_acc = history.history['val_accuracy']\n",
        "\n",
        "plt.figure(figsize=(10,12))\n",
        "plt.subplot(2, 1, 1)\n",
        "plt.plot(acc, label='Training accuracy')\n",
        "plt.plot(val_acc, label='Validation accuracy')\n",
        "plt.legend(loc='lower right')\n",
        "plt.xlabel('Epoch')\n",
        "plt.ylabel('Accuracy')\n",
        "plt.ylim([0,1])\n",
        "plt.title(\"Training and Validation Accuracy\")\n",
        "\n",
        "plt.subplot(2, 1, 2)\n",
        "plt.plot(loss, label='Training loss')\n",
        "plt.plot(val_loss, label='Validation loss')\n",
        "plt.legend(loc='lower right')\n",
        "plt.xlabel('Epoch')\n",
        "plt.ylabel('loss')\n",
        "plt.title(\"Training and Validation loss\")\n",
        "plt.show()"
      ],
      "execution_count": 24,
      "outputs": [
        {
          "output_type": "display_data",
          "data": {
            "image/png": "[encoded data removed]",
            "text/plain": [
              "<Figure size 720x864 with 2 Axes>"
            ]
          },
          "metadata": {
            "tags": []
          }
        }
      ]
    },
    {
      "cell_type": "code",
      "metadata": {
        "id": "lZ1OCGF6Qt6E",
        "colab_type": "code",
        "colab": {}
      },
      "source": [
        ""
      ],
      "execution_count": 0,
      "outputs": []
    }
  ]
}